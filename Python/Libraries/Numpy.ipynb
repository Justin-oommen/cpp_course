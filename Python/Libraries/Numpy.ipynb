{
 "cells": [
  {
   "cell_type": "markdown",
   "id": "e964fa08",
   "metadata": {},
   "source": [
    "# NumPy"
   ]
  },
  {
   "cell_type": "markdown",
   "id": "61e594e7",
   "metadata": {},
   "source": [
    "- A system of dealing with arrays in a computing language that very fast and efficient"
   ]
  },
  {
   "cell_type": "code",
   "execution_count": 1,
   "id": "07db7e37",
   "metadata": {},
   "outputs": [],
   "source": [
    "import numpy as np\n",
    "import matplotlib.pyplot as plt"
   ]
  },
  {
   "cell_type": "markdown",
   "id": "6cebb2e5",
   "metadata": {},
   "source": [
    "## Creating Arryas"
   ]
  },
  {
   "cell_type": "code",
   "execution_count": 2,
   "id": "0cd3a2bb",
   "metadata": {},
   "outputs": [
    {
     "data": {
      "text/plain": [
       "array([3, 4, 5, 6, 7, 8])"
      ]
     },
     "execution_count": 2,
     "metadata": {},
     "output_type": "execute_result"
    }
   ],
   "source": [
    "a1 = np.array([3,4,5,6,7,8])\n",
    "a1"
   ]
  },
  {
   "cell_type": "code",
   "execution_count": 3,
   "id": "e2e461b8",
   "metadata": {},
   "outputs": [
    {
     "data": {
      "text/plain": [
       "array([0., 0., 0., 0., 0., 0., 0., 0., 0., 0.])"
      ]
     },
     "execution_count": 3,
     "metadata": {},
     "output_type": "execute_result"
    }
   ],
   "source": [
    "# an array of zeros\n",
    "a2=np.zeros(10)\n",
    "a2"
   ]
  },
  {
   "cell_type": "code",
   "execution_count": 4,
   "id": "1e2fa3ac",
   "metadata": {},
   "outputs": [
    {
     "data": {
      "text/plain": [
       "array([1., 1., 1., 1., 1., 1., 1., 1., 1., 1.])"
      ]
     },
     "execution_count": 4,
     "metadata": {},
     "output_type": "execute_result"
    }
   ],
   "source": [
    "# an array of ones\n",
    "a3 = np.ones(10)\n",
    "a3"
   ]
  },
  {
   "cell_type": "code",
   "execution_count": 5,
   "id": "afc1f024",
   "metadata": {},
   "outputs": [
    {
     "data": {
      "text/plain": [
       "array([0.19586541, 0.97377678, 0.58618287, 0.05129162, 0.13986401,\n",
       "       0.50908761, 0.20544422, 0.34346874, 0.84411847, 0.22696182])"
      ]
     },
     "execution_count": 5,
     "metadata": {},
     "output_type": "execute_result"
    }
   ],
   "source": [
    "# array of random numbers\n",
    "a4 = np.random.random(10) #uniformly between 0 and 10\n",
    "a4"
   ]
  },
  {
   "cell_type": "code",
   "execution_count": 6,
   "id": "09765da8",
   "metadata": {},
   "outputs": [
    {
     "data": {
      "text/plain": [
       "array([ 0.6333052 , -0.15539836,  0.17047675,  0.90167055, -1.03419861,\n",
       "        0.64563519,  1.08219193,  1.0211933 ,  0.06201117, -1.94005685])"
      ]
     },
     "execution_count": 6,
     "metadata": {},
     "output_type": "execute_result"
    }
   ],
   "source": [
    "# random gaussian numbers. \n",
    "#Generate a mean = 0 and std.dev = 1\n",
    "a5 = np.random.randn(10)\n",
    "a5"
   ]
  },
  {
   "cell_type": "markdown",
   "id": "2b6a753e",
   "metadata": {},
   "source": [
    "**Mostly used array generation is,  \n",
    "linspace() and arrange() -- useful for plotting.**"
   ]
  },
  {
   "cell_type": "code",
   "execution_count": 7,
   "id": "738b8dc9",
   "metadata": {},
   "outputs": [
    {
     "name": "stdout",
     "output_type": "stream",
     "text": [
      "a6 = [ 0.          0.52631579  1.05263158  1.57894737  2.10526316  2.63157895\n",
      "  3.15789474  3.68421053  4.21052632  4.73684211  5.26315789  5.78947368\n",
      "  6.31578947  6.84210526  7.36842105  7.89473684  8.42105263  8.94736842\n",
      "  9.47368421 10.        ]\n",
      "a7 = [0 2 4 6 8]\n"
     ]
    }
   ],
   "source": [
    "#linspace()\n",
    "a6 = np.linspace(0,10,20)\n",
    "print('a6 = {}'.format(a6))\n",
    "\n",
    "#arange\n",
    "a7 = np.arange(0,10,2)\n",
    "print('a7 = {}'.format(a7))"
   ]
  },
  {
   "cell_type": "markdown",
   "id": "bc2068af",
   "metadata": {},
   "source": [
    "## Array Operations\n",
    "\n",
    "* Element wise operations\n",
    "* Boolean operations\n",
    "    - returns an array of true and false\n",
    "    - this is useful for indexing\n",
    "* Useful for plotting as well    "
   ]
  },
  {
   "cell_type": "code",
   "execution_count": 8,
   "id": "6028f229",
   "metadata": {},
   "outputs": [
    {
     "data": {
      "text/plain": [
       "array([0., 1., 2., 3., 4.])"
      ]
     },
     "execution_count": 8,
     "metadata": {},
     "output_type": "execute_result"
    }
   ],
   "source": [
    "a7/2"
   ]
  },
  {
   "cell_type": "code",
   "execution_count": 9,
   "id": "2d5e522f",
   "metadata": {},
   "outputs": [
    {
     "name": "stderr",
     "output_type": "stream",
     "text": [
      "/tmp/ipykernel_20557/3092595324.py:1: RuntimeWarning: divide by zero encountered in true_divide\n",
      "  1/a7\n"
     ]
    },
    {
     "data": {
      "text/plain": [
       "array([       inf, 0.5       , 0.25      , 0.16666667, 0.125     ])"
      ]
     },
     "execution_count": 9,
     "metadata": {},
     "output_type": "execute_result"
    }
   ],
   "source": [
    "1/a7"
   ]
  },
  {
   "cell_type": "code",
   "execution_count": 10,
   "id": "986f4a8b",
   "metadata": {},
   "outputs": [
    {
     "data": {
      "text/plain": [
       "array([False,  True,  True,  True,  True])"
      ]
     },
     "execution_count": 10,
     "metadata": {},
     "output_type": "execute_result"
    }
   ],
   "source": [
    "a7>0"
   ]
  },
  {
   "cell_type": "code",
   "execution_count": 11,
   "id": "7b6d0502",
   "metadata": {},
   "outputs": [
    {
     "data": {
      "text/plain": [
       "array([2, 4, 6, 8])"
      ]
     },
     "execution_count": 11,
     "metadata": {},
     "output_type": "execute_result"
    }
   ],
   "source": [
    "a7[a7>0]"
   ]
  },
  {
   "cell_type": "code",
   "execution_count": 12,
   "id": "450af99b",
   "metadata": {},
   "outputs": [
    {
     "data": {
      "text/plain": [
       "array([0.5       , 0.25      , 0.16666667, 0.125     ])"
      ]
     },
     "execution_count": 12,
     "metadata": {},
     "output_type": "execute_result"
    }
   ],
   "source": [
    "1/a7[a7>0]"
   ]
  },
  {
   "cell_type": "code",
   "execution_count": 13,
   "id": "11219fb3",
   "metadata": {},
   "outputs": [
    {
     "data": {
      "text/plain": [
       "[<matplotlib.lines.Line2D at 0x7f84e8f63c40>]"
      ]
     },
     "execution_count": 13,
     "metadata": {},
     "output_type": "execute_result"
    },
    {
     "data": {
      "image/png": "[encoded data removed]",
      "text/plain": [
       "<Figure size 432x288 with 1 Axes>"
      ]
     },
     "metadata": {
      "needs_background": "light"
     },
     "output_type": "display_data"
    }
   ],
   "source": [
    "x = a6\n",
    "y = x**2\n",
    "plt.plot(x,y)"
   ]
  },
  {
   "cell_type": "code",
   "execution_count": 14,
   "id": "ed131ee2",
   "metadata": {},
   "outputs": [
    {
     "data": {
      "text/plain": [
       "(array([7., 2., 2., 2., 1., 1., 1., 1., 2., 1.]),\n",
       " array([  0.,  10.,  20.,  30.,  40.,  50.,  60.,  70.,  80.,  90., 100.]),\n",
       " <BarContainer object of 10 artists>)"
      ]
     },
     "execution_count": 14,
     "metadata": {},
     "output_type": "execute_result"
    },
    {
     "data": {
      "image/png": "[encoded data removed]",
      "text/plain": [
       "<Figure size 432x288 with 1 Axes>"
      ]
     },
     "metadata": {
      "needs_background": "light"
     },
     "output_type": "display_data"
    }
   ],
   "source": [
    "plt.hist(y)"
   ]
  },
  {
   "cell_type": "code",
   "execution_count": 15,
   "id": "bfcaa4f3",
   "metadata": {},
   "outputs": [],
   "source": [
    "# we can chain functions together\n",
    "def f(x):\n",
    "    return x**2 * np.sin(x)/np.exp(-x)\n",
    "x = np.linspace(0,10,100)\n",
    "y = f(x)"
   ]
  },
  {
   "cell_type": "code",
   "execution_count": 16,
   "id": "eb4882df",
   "metadata": {},
   "outputs": [
    {
     "data": {
      "text/plain": [
       "[<matplotlib.lines.Line2D at 0x7f84e8e42070>]"
      ]
     },
     "execution_count": 16,
     "metadata": {},
     "output_type": "execute_result"
    },
    {
     "data": {
      "image/png": "[encoded data removed]",
      "text/plain": [
       "<Figure size 432x288 with 1 Axes>"
      ]
     },
     "metadata": {
      "needs_background": "light"
     },
     "output_type": "display_data"
    }
   ],
   "source": [
    "plt.plot(x,y)"
   ]
  },
  {
   "cell_type": "markdown",
   "id": "16665739",
   "metadata": {},
   "source": [
    "**_many more mathematical functions are in this description https://numpy.org/doc/stable/reference/routines.math.html_**"
   ]
  },
  {
   "cell_type": "markdown",
   "id": "efe37051",
   "metadata": {},
   "source": [
    "## Array indexing and Slicing"
   ]
  },
  {
   "cell_type": "code",
   "execution_count": 17,
   "id": "b36b62c0",
   "metadata": {},
   "outputs": [
    {
     "data": {
      "text/plain": [
       "array([3, 4, 5, 6, 7, 8])"
      ]
     },
     "execution_count": 17,
     "metadata": {},
     "output_type": "execute_result"
    }
   ],
   "source": [
    "a1"
   ]
  },
  {
   "cell_type": "code",
   "execution_count": 18,
   "id": "b7e3eff2",
   "metadata": {},
   "outputs": [
    {
     "data": {
      "text/plain": [
       "5"
      ]
     },
     "execution_count": 18,
     "metadata": {},
     "output_type": "execute_result"
    }
   ],
   "source": [
    "a1[2]"
   ]
  },
  {
   "cell_type": "code",
   "execution_count": 19,
   "id": "612a395f",
   "metadata": {},
   "outputs": [
    {
     "data": {
      "text/plain": [
       "array([4, 5, 6, 7, 8])"
      ]
     },
     "execution_count": 19,
     "metadata": {},
     "output_type": "execute_result"
    }
   ],
   "source": [
    "a1[1:]"
   ]
  },
  {
   "cell_type": "code",
   "execution_count": null,
   "id": "33896467",
   "metadata": {},
   "outputs": [],
   "source": []
  },
  {
   "cell_type": "code",
   "execution_count": 20,
   "id": "932bf8fc",
   "metadata": {},
   "outputs": [
    {
     "data": {
      "text/plain": [
       "array([6])"
      ]
     },
     "execution_count": 20,
     "metadata": {},
     "output_type": "execute_result"
    }
   ],
   "source": [
    "# indexing can be complicated\n",
    "\n",
    "# start at index 2 and to the very end\n",
    "a1[2:]\n",
    "\n",
    "# start  at the end to -4\n",
    "a1[:-4]\n",
    "\n",
    "a1[-2:]\n",
    "\n",
    "a1[3:-2]"
   ]
  },
  {
   "cell_type": "code",
   "execution_count": 21,
   "id": "d633ce40",
   "metadata": {},
   "outputs": [
    {
     "data": {
      "text/plain": [
       "array([False,  True,  True,  True,  True,  True])"
      ]
     },
     "execution_count": 21,
     "metadata": {},
     "output_type": "execute_result"
    }
   ],
   "source": [
    "# boolean indexing\n",
    "a1>3"
   ]
  },
  {
   "cell_type": "code",
   "execution_count": 22,
   "id": "49e75d47",
   "metadata": {},
   "outputs": [
    {
     "data": {
      "text/plain": [
       "array([4, 5, 6, 7, 8])"
      ]
     },
     "execution_count": 22,
     "metadata": {},
     "output_type": "execute_result"
    }
   ],
   "source": [
    "a1[a1>3] # return only true elements"
   ]
  },
  {
   "cell_type": "code",
   "execution_count": 23,
   "id": "852dbd98",
   "metadata": {},
   "outputs": [
    {
     "data": {
      "text/plain": [
       "array(['naruto', 'luffy', 'dragon'], dtype='<U6')"
      ]
     },
     "execution_count": 23,
     "metadata": {},
     "output_type": "execute_result"
    }
   ],
   "source": [
    "names = np.array(['naruto', 'luffy', 'dragon'])\n",
    "names"
   ]
  },
  {
   "cell_type": "markdown",
   "id": "751993ef",
   "metadata": {},
   "source": [
    "**lambda function  \n",
    "lamda s:s[0] ---> give me a string and it willgive the first character of the string  \n",
    "vectorize() ---> acts like a for loop,  \n",
    "   create a for loop and it will go each element sequentially and it will apply it to every element**"
   ]
  },
  {
   "cell_type": "code",
   "execution_count": 24,
   "id": "8e95bacb",
   "metadata": {},
   "outputs": [
    {
     "data": {
      "text/plain": [
       "array(['n', 'l', 'd'], dtype='<U1')"
      ]
     },
     "execution_count": 24,
     "metadata": {},
     "output_type": "execute_result"
    }
   ],
   "source": [
    "np.vectorize(lambda s: s[0])(names)"
   ]
  },
  {
   "cell_type": "code",
   "execution_count": 25,
   "id": "b076703d",
   "metadata": {},
   "outputs": [
    {
     "data": {
      "text/plain": [
       "array([ True, False, False])"
      ]
     },
     "execution_count": 25,
     "metadata": {},
     "output_type": "execute_result"
    }
   ],
   "source": [
    "first_letter_n = np.vectorize(lambda s: s[0])(names)=='n'\n",
    "first_letter_n\n"
   ]
  },
  {
   "cell_type": "code",
   "execution_count": 26,
   "id": "ab57b17e",
   "metadata": {},
   "outputs": [
    {
     "data": {
      "text/plain": [
       "array(['naruto'], dtype='<U6')"
      ]
     },
     "execution_count": 26,
     "metadata": {},
     "output_type": "execute_result"
    }
   ],
   "source": [
    "names[first_letter_n]"
   ]
  },
  {
   "cell_type": "code",
   "execution_count": 27,
   "id": "ad05835e",
   "metadata": {},
   "outputs": [
    {
     "data": {
      "text/plain": [
       "array([3, 4, 5, 6, 7, 8])"
      ]
     },
     "execution_count": 27,
     "metadata": {},
     "output_type": "execute_result"
    }
   ],
   "source": [
    "a1"
   ]
  },
  {
   "cell_type": "code",
   "execution_count": 28,
   "id": "5ff4d7f3",
   "metadata": {},
   "outputs": [
    {
     "data": {
      "text/plain": [
       "array([0, 1, 2, 0, 1, 2])"
      ]
     },
     "execution_count": 28,
     "metadata": {},
     "output_type": "execute_result"
    }
   ],
   "source": [
    "a1%3 #divide by 3 and gives the reminder"
   ]
  },
  {
   "cell_type": "code",
   "execution_count": 29,
   "id": "46ac5aa0",
   "metadata": {},
   "outputs": [
    {
     "data": {
      "text/plain": [
       "array([ True, False, False,  True, False, False])"
      ]
     },
     "execution_count": 29,
     "metadata": {},
     "output_type": "execute_result"
    }
   ],
   "source": [
    "a1%3 ==0"
   ]
  },
  {
   "cell_type": "code",
   "execution_count": 30,
   "id": "f0673fc5",
   "metadata": {},
   "outputs": [
    {
     "data": {
      "text/plain": [
       "array([3, 6])"
      ]
     },
     "execution_count": 30,
     "metadata": {},
     "output_type": "execute_result"
    }
   ],
   "source": [
    "a1[a1%3 ==0]"
   ]
  },
  {
   "cell_type": "markdown",
   "id": "1f257e6d",
   "metadata": {},
   "source": [
    "## Calculus and Statistics"
   ]
  },
  {
   "cell_type": "code",
   "execution_count": 31,
   "id": "71a4c7ac",
   "metadata": {},
   "outputs": [],
   "source": [
    "# here we are generating a gaussian at first with mean = 0 and std.dev = 1\n",
    "# then we are multiply by 2 make its std.dev = 2\n",
    "# add 10 to shift the mean value to mean = 10\n",
    "a1 = 2*np.random.randn(10000) + 10"
   ]
  },
  {
   "cell_type": "code",
   "execution_count": 32,
   "id": "c1fa0e76",
   "metadata": {},
   "outputs": [
    {
     "data": {
      "text/plain": [
       "[<matplotlib.lines.Line2D at 0x7f84e8d9e3a0>]"
      ]
     },
     "execution_count": 32,
     "metadata": {},
     "output_type": "execute_result"
    },
    {
     "data": {
      "image/png": "[encoded data removed]",
      "text/plain": [
       "<Figure size 432x288 with 1 Axes>"
      ]
     },
     "metadata": {
      "needs_background": "light"
     },
     "output_type": "display_data"
    }
   ],
   "source": [
    "a1\n",
    "plt.plot(a1)"
   ]
  },
  {
   "cell_type": "markdown",
   "id": "d4a13955",
   "metadata": {},
   "source": [
    "**mean, standard deviation and percentile of arrryas are in the following**  \n",
    "- mean()\n",
    "- std()\n",
    "- percentile() --> how many numbers are bigger than a certain thing"
   ]
  },
  {
   "cell_type": "code",
   "execution_count": 33,
   "id": "5eca02f1",
   "metadata": {},
   "outputs": [],
   "source": [
    "m = np.mean(a1)"
   ]
  },
  {
   "cell_type": "code",
   "execution_count": 34,
   "id": "a8a05a66",
   "metadata": {},
   "outputs": [
    {
     "data": {
      "text/plain": [
       "2.0072583587333144"
      ]
     },
     "execution_count": 34,
     "metadata": {},
     "output_type": "execute_result"
    }
   ],
   "source": [
    "np.std(a1)"
   ]
  },
  {
   "cell_type": "code",
   "execution_count": 35,
   "id": "0d867cdf",
   "metadata": {},
   "outputs": [],
   "source": [
    "# tell me how many values are less than 80%\n",
    "per = np.percentile(a1,80)"
   ]
  },
  {
   "cell_type": "markdown",
   "id": "45c9f867",
   "metadata": {},
   "source": [
    "**Integrals and derivatives**\n",
    "- gradient()  ---> derivative\n",
    "- cumsum()    --->integral * dx"
   ]
  },
  {
   "cell_type": "code",
   "execution_count": 36,
   "id": "eb71df1a",
   "metadata": {},
   "outputs": [],
   "source": [
    "x = np.linspace(1,10,100)\n",
    "y = 1/x**2 * np.sin(x)\n",
    "dydx = np.gradient(y,x)\n",
    "y_int = np.cumsum(y) * (x[1]-x[0]) # dy*"
   ]
  },
  {
   "cell_type": "code",
   "execution_count": 37,
   "id": "ceb48738",
   "metadata": {},
   "outputs": [
    {
     "data": {
      "text/plain": [
       "<matplotlib.legend.Legend at 0x7f84e8db9f10>"
      ]
     },
     "execution_count": 37,
     "metadata": {},
     "output_type": "execute_result"
    },
    {
     "data": {
      "image/png": "[encoded data removed]",
      "text/plain": [
       "<Figure size 432x288 with 1 Axes>"
      ]
     },
     "metadata": {
      "needs_background": "light"
     },
     "output_type": "display_data"
    }
   ],
   "source": [
    "plt.plot(x,y,label='function')\n",
    "plt.plot(x,dydx,label='derivative')\n",
    "plt.plot(x,y_int,label='integral')\n",
    "plt.legend()"
   ]
  },
  {
   "cell_type": "markdown",
   "id": "83b188a2",
   "metadata": {},
   "source": [
    "## Examples\n",
    "\n",
    "### Problem1:\n",
    "\n",
    "Let $ y = e^{-x/10} sin(x) $ Consider 10000 *x* values in the range [0,10]\n",
    "\n",
    "1. Plot the function *y* vs *x* n the range [0,10].\n",
    "2. Compute the mean and standard deviation of *y* for *x* values in [4,7].\n",
    "3. For *x* in the range [4,7], find the value $y_m$ such that 80% of *y* values are less than $y_m$\n",
    "4. Plot $dy/dx$ vs *x*\n",
    "5. Find the locations where *dy/dx* = 0"
   ]
  },
  {
   "cell_type": "code",
   "execution_count": 21,
   "id": "6aa39d01",
   "metadata": {},
   "outputs": [
    {
     "data": {
      "text/plain": [
       "Text(0, 0.5, 'y')"
      ]
     },
     "execution_count": 21,
     "metadata": {},
     "output_type": "execute_result"
    },
    {
     "data": {
      "image/png": "[encoded data removed]",
      "text/plain": [
       "<Figure size 432x288 with 1 Axes>"
      ]
     },
     "metadata": {
      "needs_background": "light"
     },
     "output_type": "display_data"
    }
   ],
   "source": [
    "N = 10000\n",
    "x = np.linspace(0,10,N+1)\n",
    "y = np.exp(-x/10) * np.sin(x)\n",
    "plt.plot(x,y)\n",
    "plt.xlabel(\"x\")\n",
    "plt.ylabel(\"y\")"
   ]
  },
  {
   "cell_type": "code",
   "execution_count": 4,
   "id": "4a748da1",
   "metadata": {},
   "outputs": [
    {
     "data": {
      "text/plain": [
       "0.31448753875085117"
      ]
     },
     "execution_count": 4,
     "metadata": {},
     "output_type": "execute_result"
    }
   ],
   "source": [
    "np.mean(y[(x>=4)*(x<=7)])\n",
    "np.std(y[(x>=4)*(x<=7)])"
   ]
  },
  {
   "cell_type": "code",
   "execution_count": 5,
   "id": "9e49517c",
   "metadata": {},
   "outputs": [
    {
     "data": {
      "text/plain": [
       "0.06145551274590662"
      ]
     },
     "execution_count": 5,
     "metadata": {},
     "output_type": "execute_result"
    }
   ],
   "source": [
    "np.percentile(y[(x>=4)*(x<=7)],80)"
   ]
  },
  {
   "cell_type": "code",
   "execution_count": 9,
   "id": "d460e1d5",
   "metadata": {},
   "outputs": [
    {
     "data": {
      "text/plain": [
       "<matplotlib.legend.Legend at 0x7f999c1158e0>"
      ]
     },
     "execution_count": 9,
     "metadata": {},
     "output_type": "execute_result"
    },
    {
     "data": {
      "image/png": "[encoded data removed]",
      "text/plain": [
       "<Figure size 432x288 with 1 Axes>"
      ]
     },
     "metadata": {
      "needs_background": "light"
     },
     "output_type": "display_data"
    }
   ],
   "source": [
    "#plotting dydx\n",
    "dydx = np.gradient(y,x)\n",
    "plt.plot(x,y,label='function')\n",
    "plt.plot(x,dydx,label='derivative')\n",
    "plt.legend()"
   ]
  },
  {
   "cell_type": "code",
   "execution_count": 30,
   "id": "f7294278",
   "metadata": {},
   "outputs": [
    {
     "data": {
      "text/plain": [
       "<matplotlib.legend.Legend at 0x7f9995403a00>"
      ]
     },
     "execution_count": 30,
     "metadata": {},
     "output_type": "execute_result"
    },
    {
     "data": {
      "image/png": "[encoded data removed]",
      "text/plain": [
       "<Figure size 432x288 with 1 Axes>"
      ]
     },
     "metadata": {
      "needs_background": "light"
     },
     "output_type": "display_data"
    }
   ],
   "source": [
    "#more comprehensively\n",
    "#plt.plot(x,y,label='function')\n",
    "plt.plot(x,np.gradient(y,x),label='derivative')\n",
    "plt.legend()\n"
   ]
  },
  {
   "cell_type": "code",
   "execution_count": 12,
   "id": "97036a39",
   "metadata": {},
   "outputs": [
    {
     "data": {
      "text/plain": [
       "array([ 0.99989984,  0.99979935,  0.9995979 , ..., -0.28918296,\n",
       "       -0.28892346, -0.28879364])"
      ]
     },
     "execution_count": 12,
     "metadata": {},
     "output_type": "execute_result"
    }
   ],
   "source": [
    "dydx"
   ]
  },
  {
   "cell_type": "code",
   "execution_count": 24,
   "id": "e3e1c974",
   "metadata": {},
   "outputs": [
    {
     "data": {
      "text/plain": [
       "array([1.472, 4.613, 7.755])"
      ]
     },
     "execution_count": 24,
     "metadata": {},
     "output_type": "execute_result"
    }
   ],
   "source": [
    "# to find the place where dy/dx = 0 is when the fuction slope = 0 or function slope (dydx) change it's value from positive to negative\n",
    "# muliplying consecutive elements in the array will give us the idea where it will be change the signs\n",
    "#to multliply consequtive arrays\n",
    "# dydx[1:] skips 0th element. so the fisrt element of this array is 1th element of dydx\n",
    "# dydx[:-1] skips the last elemet. the first element of this arrays is the 0th element of dydx\n",
    "# therefore the multiplication of these two array is indeed the mulplication of the consequtive element multiplication\n",
    "\n",
    "#since x is different length than dydx in this case. we have to cut the first element to have the same length and index that\n",
    "x[1:][dydx[1:] * dydx[:-1] < 0]\n"
   ]
  },
  {
   "cell_type": "code",
   "execution_count": null,
   "id": "b3b19de4",
   "metadata": {},
   "outputs": [],
   "source": []
  },
  {
   "cell_type": "markdown",
   "id": "385c5a39",
   "metadata": {},
   "source": [
    "### Problem2:\n",
    "\n",
    "\n",
    "Sum together every number from 0 to 10000 except for those than can be divided by 4 or 7. Do this in one line of code\n"
   ]
  },
  {
   "cell_type": "code",
   "execution_count": 40,
   "id": "d67aaec1",
   "metadata": {},
   "outputs": [
    {
     "data": {
      "text/plain": [
       "32147142"
      ]
     },
     "execution_count": 40,
     "metadata": {},
     "output_type": "execute_result"
    }
   ],
   "source": [
    "nums = np.arange(0,10001,1)\n",
    "sum(nums[(nums%4 !=0) * nums%7 !=0])"
   ]
  },
  {
   "cell_type": "code",
   "execution_count": null,
   "id": "425e2296",
   "metadata": {},
   "outputs": [],
   "source": []
  },
  {
   "cell_type": "markdown",
   "id": "eccce047",
   "metadata": {},
   "source": [
    "### Problem3: \n",
    "\n",
    "Conside the flower petal $ r(\\theta)= 1+\\frac{3}{4}sin(3\\theta) $ for $ 0 \\leq \\theta \\leq 2\\pi $\n",
    "1. Make a plot of the flower\n",
    "2. Compute the area using the calculus formula $A = \\int_{0}^{2\\pi} \\frac{1}{2}r^2d\\theta $\n",
    "3. Compute the arclength using the calculus formula $ L = \\int_{0}^{2\\pi} \\sqrt{r^2 + (\\frac{dr}{d\\theta})^2 d}\\theta $ "
   ]
  },
  {
   "cell_type": "code",
   "execution_count": 42,
   "id": "12da173c",
   "metadata": {},
   "outputs": [
    {
     "data": {
      "text/plain": [
       "[<matplotlib.lines.Line2D at 0x7f99952fe910>]"
      ]
     },
     "execution_count": 42,
     "metadata": {},
     "output_type": "execute_result"
    },
    {
     "data": {
      "image/png": "[encoded data removed]",
      "text/plain": [
       "<Figure size 432x288 with 1 Axes>"
      ]
     },
     "metadata": {
      "needs_background": "light"
     },
     "output_type": "display_data"
    }
   ],
   "source": [
    "theta = np.linspace(0,2*np.pi,1000)\n",
    "r = 1 + 3/4 * np.sin(3*theta)\n",
    "#converting to catesian coordinates from r and theta\n",
    "x = r*np.cos(theta)\n",
    "y = r*np.sin(theta)\n",
    "plt.plot(x,y)"
   ]
  },
  {
   "cell_type": "code",
   "execution_count": 61,
   "id": "7ab31858",
   "metadata": {},
   "outputs": [
    {
     "data": {
      "text/plain": [
       "Text(0, 0.5, 'integral')"
      ]
     },
     "execution_count": 61,
     "metadata": {},
     "output_type": "execute_result"
    },
    {
     "data": {
      "image/png": "[encoded data removed]",
      "text/plain": [
       "<Figure size 432x288 with 1 Axes>"
      ]
     },
     "metadata": {
      "needs_background": "light"
     },
     "output_type": "display_data"
    }
   ],
   "source": [
    "A = 1/2 * np.sum(r**2) * theta[1] - theta[0]\n",
    "A\n",
    "A = 1/2 * np.cumsum(r**2) * theta[1] - theta[0]\n",
    "plt.plot(theta,A)\n",
    "plt.xlabel('theta')\n",
    "plt.ylabel('integral')\n"
   ]
  },
  {
   "cell_type": "code",
   "execution_count": 85,
   "id": "178f96a0",
   "metadata": {},
   "outputs": [
    {
     "data": {
      "text/plain": [
       "11.640021569013872"
      ]
     },
     "execution_count": 85,
     "metadata": {},
     "output_type": "execute_result"
    },
    {
     "data": {
      "image/png": "[encoded data removed]",
      "text/plain": [
       "<Figure size 432x288 with 1 Axes>"
      ]
     },
     "metadata": {
      "needs_background": "light"
     },
     "output_type": "display_data"
    }
   ],
   "source": [
    "#arc length\n",
    "dr_dtheta = np.gradient(r,theta)\n",
    "L = np.cumsum(np.sqrt((r**2 + dr_dtheta**2))) * theta[1]-theta[0]\n",
    "plt.plot(theta,L)\n",
    "plt.xlabel('$ theta $', fontsize = 20)\n",
    "plt.ylabel('L')\n",
    "\n",
    "L = sum(np.sqrt((r**2 + dr_dtheta**2))) * theta[1]-theta[0]\n",
    "L"
   ]
  },
  {
   "cell_type": "markdown",
   "id": "803c8fb2",
   "metadata": {},
   "source": [
    "### Problem4:\n",
    "\n",
    "The power emitted by a blackbody is $ P = A\\sigma\\epsilon T^4$. After measuring the temperature of a star you find that $ T(t) = T_0\\frac{1}{1+e^{-kt}}$. Plot the total energy emitted by the star as a function of time using the fact that $ E(t) = \\int_{t'=0}^{t'=t}P(t')dt'$"
   ]
  },
  {
   "cell_type": "markdown",
   "id": "0267df65",
   "metadata": {},
   "source": [
    "$$ P  / (A \\sigma \\epsilon T_0^4) = \\left( \\frac{1}{1+e^{-kt}} \\right )^4 $$\n",
    "\n",
    "We can only deal with dimensionless quantity. \n",
    "We can't deal with P on it's own but we define the aove quantity to make we plot this instead of *P* alone which makes this to our unknown quantities and PLot it"
   ]
  },
  {
   "cell_type": "code",
   "execution_count": 88,
   "id": "c7609c7c",
   "metadata": {},
   "outputs": [],
   "source": [
    "kt = np.linspace(0,3,100)\n",
    "P_over = (1 / (1+np.exp(-kt)))**4"
   ]
  },
  {
   "cell_type": "code",
   "execution_count": 89,
   "id": "f84246db",
   "metadata": {},
   "outputs": [
    {
     "data": {
      "text/plain": [
       "[<matplotlib.lines.Line2D at 0x7f999513db50>]"
      ]
     },
     "execution_count": 89,
     "metadata": {},
     "output_type": "execute_result"
    },
    {
     "data": {
      "image/png": "[encoded data removed]",
      "text/plain": [
       "<Figure size 432x288 with 1 Axes>"
      ]
     },
     "metadata": {
      "needs_background": "light"
     },
     "output_type": "display_data"
    }
   ],
   "source": [
    "plt.plot(kt,P_over)"
   ]
  },
  {
   "cell_type": "code",
   "execution_count": 91,
   "id": "d8406fe0",
   "metadata": {},
   "outputs": [],
   "source": [
    "E = np.cumsum(P_over) * kt[1]-kt[0]"
   ]
  },
  {
   "cell_type": "code",
   "execution_count": 95,
   "id": "4072a50e",
   "metadata": {},
   "outputs": [
    {
     "data": {
      "text/plain": [
       "<matplotlib.legend.Legend at 0x7f998b954910>"
      ]
     },
     "execution_count": 95,
     "metadata": {},
     "output_type": "execute_result"
    },
    {
     "data": {
      "image/png": "[encoded data removed]",
      "text/plain": [
       "<Figure size 432x288 with 1 Axes>"
      ]
     },
     "metadata": {
      "needs_background": "light"
     },
     "output_type": "display_data"
    }
   ],
   "source": [
    "plt.plot(kt,P_over,label = 'P')\n",
    "plt.plot(kt,E, label = 'E')\n",
    "plt.xlabel('$kt$')\n",
    "plt.ylabel(r'$\\left(\\frac{k}{A/\\sigma \\epsilon T_0^4}\\right) E(kt)$', fontsize=20)\n",
    "plt.legend()"
   ]
  },
  {
   "cell_type": "markdown",
   "id": "2e274a11",
   "metadata": {},
   "source": [
    "## Multi-Dimensional Array\n",
    "\n",
    "Creating a multi dimensional array"
   ]
  },
  {
   "cell_type": "code",
   "execution_count": 4,
   "id": "5b0ac251",
   "metadata": {},
   "outputs": [],
   "source": [
    "arr1 = np.array([[1,2,3],[4,5,6],[7,8,9]])"
   ]
  },
  {
   "cell_type": "code",
   "execution_count": 5,
   "id": "4de40a16",
   "metadata": {},
   "outputs": [
    {
     "data": {
      "text/plain": [
       "array([[1, 2, 3],\n",
       "       [4, 5, 6],\n",
       "       [7, 8, 9]])"
      ]
     },
     "execution_count": 5,
     "metadata": {},
     "output_type": "execute_result"
    }
   ],
   "source": [
    "arr1"
   ]
  },
  {
   "cell_type": "markdown",
   "id": "2fc77381",
   "metadata": {},
   "source": [
    "Operations are similar"
   ]
  },
  {
   "cell_type": "code",
   "execution_count": 6,
   "id": "0cde457d",
   "metadata": {},
   "outputs": [
    {
     "data": {
      "text/plain": [
       "array([[0.5, 1. , 1.5],\n",
       "       [2. , 2.5, 3. ],\n",
       "       [3.5, 4. , 4.5]])"
      ]
     },
     "execution_count": 6,
     "metadata": {},
     "output_type": "execute_result"
    }
   ],
   "source": [
    "arr1/2"
   ]
  },
  {
   "cell_type": "markdown",
   "id": "e810f214",
   "metadata": {},
   "source": [
    "Can turn N-Dimensional array to 1D array using the function ravel()"
   ]
  },
  {
   "cell_type": "code",
   "execution_count": 7,
   "id": "ef0e22d4",
   "metadata": {},
   "outputs": [
    {
     "data": {
      "text/plain": [
       "array([1, 2, 3, 4, 5, 6, 7, 8, 9])"
      ]
     },
     "execution_count": 7,
     "metadata": {},
     "output_type": "execute_result"
    }
   ],
   "source": [
    "arr1.ravel()"
   ]
  },
  {
   "cell_type": "markdown",
   "id": "06dff897",
   "metadata": {},
   "source": [
    "Boolean Indexing"
   ]
  },
  {
   "cell_type": "code",
   "execution_count": 8,
   "id": "6748b565",
   "metadata": {},
   "outputs": [
    {
     "data": {
      "text/plain": [
       "array([[False,  True,  True],\n",
       "       [ True,  True,  True],\n",
       "       [ True,  True,  True]])"
      ]
     },
     "execution_count": 8,
     "metadata": {},
     "output_type": "execute_result"
    }
   ],
   "source": [
    "arr1>1"
   ]
  },
  {
   "cell_type": "code",
   "execution_count": 9,
   "id": "f1699572",
   "metadata": {},
   "outputs": [
    {
     "data": {
      "text/plain": [
       "array([[False, False, False],\n",
       "       [False, False,  True],\n",
       "       [ True,  True,  True]])"
      ]
     },
     "execution_count": 9,
     "metadata": {},
     "output_type": "execute_result"
    }
   ],
   "source": [
    "arr1>5"
   ]
  },
  {
   "cell_type": "code",
   "execution_count": 10,
   "id": "79ab4092",
   "metadata": {},
   "outputs": [],
   "source": [
    "arr2 = np.random.randn(3,3)"
   ]
  },
  {
   "cell_type": "code",
   "execution_count": 11,
   "id": "f8d3a7f6",
   "metadata": {},
   "outputs": [
    {
     "data": {
      "text/plain": [
       "array([[-1.5238046 ,  1.25702255,  0.63635806],\n",
       "       [-0.35020497,  1.13413205,  0.8439049 ],\n",
       "       [-0.66159869,  1.08559914, -0.91992683]])"
      ]
     },
     "execution_count": 11,
     "metadata": {},
     "output_type": "execute_result"
    }
   ],
   "source": [
    "arr2"
   ]
  },
  {
   "cell_type": "code",
   "execution_count": 12,
   "id": "7eaaadb4",
   "metadata": {},
   "outputs": [
    {
     "data": {
      "text/plain": [
       "array([ 0.8439049 , -0.66159869,  1.08559914, -0.91992683])"
      ]
     },
     "execution_count": 12,
     "metadata": {},
     "output_type": "execute_result"
    }
   ],
   "source": [
    "arr2[arr1>5]"
   ]
  },
  {
   "cell_type": "markdown",
   "id": "c5d604a2",
   "metadata": {},
   "source": [
    "Elementing Indexing"
   ]
  },
  {
   "cell_type": "code",
   "execution_count": 13,
   "id": "956d481f",
   "metadata": {},
   "outputs": [
    {
     "data": {
      "text/plain": [
       "array([[1, 2, 3],\n",
       "       [4, 5, 6],\n",
       "       [7, 8, 9]])"
      ]
     },
     "execution_count": 13,
     "metadata": {},
     "output_type": "execute_result"
    }
   ],
   "source": [
    "arr1"
   ]
  },
  {
   "cell_type": "code",
   "execution_count": 14,
   "id": "8a7d86a3",
   "metadata": {},
   "outputs": [
    {
     "data": {
      "text/plain": [
       "array([1, 2, 3])"
      ]
     },
     "execution_count": 14,
     "metadata": {},
     "output_type": "execute_result"
    }
   ],
   "source": [
    "arr1[0]"
   ]
  },
  {
   "cell_type": "code",
   "execution_count": 15,
   "id": "3be9cd4c",
   "metadata": {},
   "outputs": [
    {
     "data": {
      "text/plain": [
       "array([1, 4, 7])"
      ]
     },
     "execution_count": 15,
     "metadata": {},
     "output_type": "execute_result"
    }
   ],
   "source": [
    "#for the coulmn\n",
    "arr1[:,0]  #go through all rows ad take the 0th element"
   ]
  },
  {
   "cell_type": "code",
   "execution_count": 16,
   "id": "8d731a31",
   "metadata": {},
   "outputs": [
    {
     "data": {
      "text/plain": [
       "array([3, 6, 9])"
      ]
     },
     "execution_count": 16,
     "metadata": {},
     "output_type": "execute_result"
    }
   ],
   "source": [
    "arr1[:,2]"
   ]
  },
  {
   "cell_type": "code",
   "execution_count": 19,
   "id": "70cce24b",
   "metadata": {},
   "outputs": [
    {
     "data": {
      "text/plain": [
       "array([[4, 5],\n",
       "       [7, 8]])"
      ]
     },
     "execution_count": 19,
     "metadata": {},
     "output_type": "execute_result"
    }
   ],
   "source": [
    "arr1[1:,:2]"
   ]
  },
  {
   "cell_type": "markdown",
   "id": "c029edd8",
   "metadata": {},
   "source": [
    "## 2D function\n",
    "\n",
    "Function in 2 dimensions.\n",
    "\n",
    "Let's say we created x and y and then $z = x^2 + y^2$"
   ]
  },
  {
   "cell_type": "code",
   "execution_count": 38,
   "id": "756e11fe",
   "metadata": {},
   "outputs": [],
   "source": [
    "x = np.linspace(0,10,1000)\n",
    "y = np.linspace(0,10,1000)"
   ]
  },
  {
   "cell_type": "code",
   "execution_count": 39,
   "id": "79b13e7e",
   "metadata": {},
   "outputs": [],
   "source": [
    "z= x**2 + y **2"
   ]
  },
  {
   "cell_type": "markdown",
   "id": "e69c02cb",
   "metadata": {},
   "source": [
    "This one is not 2d function because essentially it is the same as $x^2+x^2$. So z is nothing but a one dimesional array\n",
    "\n",
    "The way to create 2D array we use **meshgrids**  \n",
    "We use this all the time to do physics in python\n",
    "\n",
    "The way meshgrids work is that we have basically a map. EVery coordinate have x and y value. But the x coordinate is same per coulmn\n"
   ]
  },
  {
   "cell_type": "code",
   "execution_count": 40,
   "id": "1e9c9b7d",
   "metadata": {},
   "outputs": [],
   "source": [
    "xv, yv = np.meshgrid(x,y)"
   ]
  },
  {
   "cell_type": "code",
   "execution_count": 41,
   "id": "e1d83c9a",
   "metadata": {},
   "outputs": [
    {
     "data": {
      "text/plain": [
       "array([[ 0.        ,  0.01001001,  0.02002002, ...,  9.97997998,\n",
       "         9.98998999, 10.        ],\n",
       "       [ 0.        ,  0.01001001,  0.02002002, ...,  9.97997998,\n",
       "         9.98998999, 10.        ],\n",
       "       [ 0.        ,  0.01001001,  0.02002002, ...,  9.97997998,\n",
       "         9.98998999, 10.        ],\n",
       "       ...,\n",
       "       [ 0.        ,  0.01001001,  0.02002002, ...,  9.97997998,\n",
       "         9.98998999, 10.        ],\n",
       "       [ 0.        ,  0.01001001,  0.02002002, ...,  9.97997998,\n",
       "         9.98998999, 10.        ],\n",
       "       [ 0.        ,  0.01001001,  0.02002002, ...,  9.97997998,\n",
       "         9.98998999, 10.        ]])"
      ]
     },
     "execution_count": 41,
     "metadata": {},
     "output_type": "execute_result"
    }
   ],
   "source": [
    "xv"
   ]
  },
  {
   "cell_type": "code",
   "execution_count": 42,
   "id": "1bc8d172",
   "metadata": {},
   "outputs": [
    {
     "data": {
      "text/plain": [
       "array([[ 0.        ,  0.        ,  0.        , ...,  0.        ,\n",
       "         0.        ,  0.        ],\n",
       "       [ 0.01001001,  0.01001001,  0.01001001, ...,  0.01001001,\n",
       "         0.01001001,  0.01001001],\n",
       "       [ 0.02002002,  0.02002002,  0.02002002, ...,  0.02002002,\n",
       "         0.02002002,  0.02002002],\n",
       "       ...,\n",
       "       [ 9.97997998,  9.97997998,  9.97997998, ...,  9.97997998,\n",
       "         9.97997998,  9.97997998],\n",
       "       [ 9.98998999,  9.98998999,  9.98998999, ...,  9.98998999,\n",
       "         9.98998999,  9.98998999],\n",
       "       [10.        , 10.        , 10.        , ..., 10.        ,\n",
       "        10.        , 10.        ]])"
      ]
     },
     "execution_count": 42,
     "metadata": {},
     "output_type": "execute_result"
    }
   ],
   "source": [
    "yv"
   ]
  },
  {
   "cell_type": "code",
   "execution_count": 43,
   "id": "3541a315",
   "metadata": {},
   "outputs": [],
   "source": [
    "zv = xv**2 + yv**2"
   ]
  },
  {
   "cell_type": "code",
   "execution_count": 44,
   "id": "c82c93db",
   "metadata": {},
   "outputs": [
    {
     "data": {
      "text/plain": [
       "array([[0.00000000e+00, 1.00200300e-04, 4.00801202e-04, ...,\n",
       "        9.96000004e+01, 9.97999000e+01, 1.00000000e+02],\n",
       "       [1.00200300e-04, 2.00400601e-04, 5.01001502e-04, ...,\n",
       "        9.96001006e+01, 9.98000002e+01, 1.00000100e+02],\n",
       "       [4.00801202e-04, 5.01001502e-04, 8.01602403e-04, ...,\n",
       "        9.96004012e+01, 9.98003008e+01, 1.00000401e+02],\n",
       "       ...,\n",
       "       [9.96000004e+01, 9.96001006e+01, 9.96004012e+01, ...,\n",
       "        1.99200001e+02, 1.99399900e+02, 1.99600000e+02],\n",
       "       [9.97999000e+01, 9.98000002e+01, 9.98003008e+01, ...,\n",
       "        1.99399900e+02, 1.99599800e+02, 1.99799900e+02],\n",
       "       [1.00000000e+02, 1.00000100e+02, 1.00000401e+02, ...,\n",
       "        1.99600000e+02, 1.99799900e+02, 2.00000000e+02]])"
      ]
     },
     "execution_count": 44,
     "metadata": {},
     "output_type": "execute_result"
    }
   ],
   "source": [
    "zv"
   ]
  },
  {
   "cell_type": "markdown",
   "id": "1dddda8a",
   "metadata": {},
   "source": [
    "**We can make a color plot using contourf()**"
   ]
  },
  {
   "cell_type": "code",
   "execution_count": 45,
   "id": "022cf9c9",
   "metadata": {},
   "outputs": [
    {
     "data": {
      "text/plain": [
       "<matplotlib.colorbar.Colorbar at 0x7f84e814a910>"
      ]
     },
     "execution_count": 45,
     "metadata": {},
     "output_type": "execute_result"
    },
    {
     "data": {
      "image/png": "[encoded data removed]",
      "text/plain": [
       "<Figure size 432x288 with 2 Axes>"
      ]
     },
     "metadata": {
      "needs_background": "light"
     },
     "output_type": "display_data"
    }
   ],
   "source": [
    "plt.contourf(xv,yv,zv, levels=30) #levels are the color strips\n",
    "plt.colorbar()"
   ]
  },
  {
   "cell_type": "markdown",
   "id": "abe7142d",
   "metadata": {},
   "source": [
    "## Basic Linear Algebra\n",
    "\n",
    "*Scipy is the package for linear algebra but we can do it here too but the former one is the most efficient and used*"
   ]
  },
  {
   "cell_type": "markdown",
   "id": "7d3357a9",
   "metadata": {},
   "source": [
    "### Matrix Operations"
   ]
  },
  {
   "cell_type": "code",
   "execution_count": 5,
   "id": "2b83fa48",
   "metadata": {},
   "outputs": [
    {
     "data": {
      "text/plain": [
       "array([[1, 2, 3],\n",
       "       [4, 5, 6],\n",
       "       [7, 8, 9]])"
      ]
     },
     "execution_count": 5,
     "metadata": {},
     "output_type": "execute_result"
    }
   ],
   "source": [
    "A = np.array([[1,2,3],[4,5,6],[7,8,9]])\n",
    "A"
   ]
  },
  {
   "cell_type": "code",
   "execution_count": 6,
   "id": "c9360e12",
   "metadata": {},
   "outputs": [],
   "source": [
    "b1 = np.array([1,4,5])\n",
    "b2 = np.array([4,0,7])"
   ]
  },
  {
   "cell_type": "code",
   "execution_count": 7,
   "id": "6b8bbc7b",
   "metadata": {},
   "outputs": [
    {
     "data": {
      "text/plain": [
       "array([4, 0, 7])"
      ]
     },
     "execution_count": 7,
     "metadata": {},
     "output_type": "execute_result"
    }
   ],
   "source": [
    "b1\n",
    "b2"
   ]
  },
  {
   "cell_type": "code",
   "execution_count": 8,
   "id": "03dda937",
   "metadata": {},
   "outputs": [
    {
     "data": {
      "text/plain": [
       "array([24, 54, 84])"
      ]
     },
     "execution_count": 8,
     "metadata": {},
     "output_type": "execute_result"
    }
   ],
   "source": [
    "A@b1 #multiply Matrix A with vector b1"
   ]
  },
  {
   "cell_type": "code",
   "execution_count": 9,
   "id": "4769d32b",
   "metadata": {},
   "outputs": [
    {
     "data": {
      "text/plain": [
       "array([[1, 4, 7],\n",
       "       [2, 5, 8],\n",
       "       [3, 6, 9]])"
      ]
     },
     "execution_count": 9,
     "metadata": {},
     "output_type": "execute_result"
    }
   ],
   "source": [
    "A.T #transpose of a matrix"
   ]
  },
  {
   "cell_type": "code",
   "execution_count": 10,
   "id": "f1798282",
   "metadata": {},
   "outputs": [
    {
     "data": {
      "text/plain": [
       "39"
      ]
     },
     "execution_count": 10,
     "metadata": {},
     "output_type": "execute_result"
    }
   ],
   "source": [
    "#dot product\n",
    "np.dot(b1,b2)"
   ]
  },
  {
   "cell_type": "code",
   "execution_count": 11,
   "id": "0bdc73a4",
   "metadata": {},
   "outputs": [
    {
     "data": {
      "text/plain": [
       "array([ 28,  13, -16])"
      ]
     },
     "execution_count": 11,
     "metadata": {},
     "output_type": "execute_result"
    }
   ],
   "source": [
    "#cross product\n",
    "np.cross(b1,b2)"
   ]
  },
  {
   "cell_type": "markdown",
   "id": "377cbcf1",
   "metadata": {},
   "source": [
    "### Systemo f Equations\n",
    "\n",
    "$ 3x+2y+z = 4\\\\5x-5y+4z = 3\\\\6x+z = 0$"
   ]
  },
  {
   "cell_type": "code",
   "execution_count": 12,
   "id": "3a9b8d78",
   "metadata": {},
   "outputs": [],
   "source": [
    "A = np.array([[3,2,1],[5,-5,4],[6,0,1]])\n",
    "b = np.array([4,3,0])"
   ]
  },
  {
   "cell_type": "markdown",
   "id": "d3a27577",
   "metadata": {},
   "source": [
    "**Use linalg.solve() for solving system of equatio. ie, x,y,z**"
   ]
  },
  {
   "cell_type": "code",
   "execution_count": 13,
   "id": "8308c2da",
   "metadata": {},
   "outputs": [
    {
     "data": {
      "text/plain": [
       "array([-0.49056604,  1.26415094,  2.94339623])"
      ]
     },
     "execution_count": 13,
     "metadata": {},
     "output_type": "execute_result"
    }
   ],
   "source": [
    "np.linalg.solve(A,b)"
   ]
  },
  {
   "cell_type": "markdown",
   "id": "102fa1f3",
   "metadata": {},
   "source": [
    "### Finding Eigen Values"
   ]
  },
  {
   "cell_type": "code",
   "execution_count": 14,
   "id": "2d794c8a",
   "metadata": {},
   "outputs": [],
   "source": [
    "#choose a matrix that have eigen values\n",
    "M1 = np.array([[1,0,0],[0,1,0],[0,0,1]])"
   ]
  },
  {
   "cell_type": "markdown",
   "id": "786b282a",
   "metadata": {},
   "source": [
    "**Use linalg.eig() for finding the eigen value and it's eigen vectors**"
   ]
  },
  {
   "cell_type": "code",
   "execution_count": 17,
   "id": "e9acc7fb",
   "metadata": {},
   "outputs": [
    {
     "data": {
      "text/plain": [
       "(array([1., 1., 1.]),\n",
       " array([[1., 0., 0.],\n",
       "        [0., 1., 0.],\n",
       "        [0., 0., 1.]]))"
      ]
     },
     "execution_count": 17,
     "metadata": {},
     "output_type": "execute_result"
    }
   ],
   "source": [
    "np.linalg.eig(M1)"
   ]
  },
  {
   "cell_type": "code",
   "execution_count": 18,
   "id": "f8d2de6e",
   "metadata": {},
   "outputs": [],
   "source": [
    "eig_val, eig_vec = np.linalg.eig(M1)"
   ]
  },
  {
   "cell_type": "code",
   "execution_count": 19,
   "id": "1800973a",
   "metadata": {},
   "outputs": [
    {
     "data": {
      "text/plain": [
       "array([1., 1., 1.])"
      ]
     },
     "execution_count": 19,
     "metadata": {},
     "output_type": "execute_result"
    }
   ],
   "source": [
    "eig_val"
   ]
  },
  {
   "cell_type": "code",
   "execution_count": 20,
   "id": "b23e1b50",
   "metadata": {},
   "outputs": [
    {
     "data": {
      "text/plain": [
       "array([[1., 0., 0.],\n",
       "       [0., 1., 0.],\n",
       "       [0., 0., 1.]])"
      ]
     },
     "execution_count": 20,
     "metadata": {},
     "output_type": "execute_result"
    }
   ],
   "source": [
    "eig_vec"
   ]
  },
  {
   "cell_type": "code",
   "execution_count": 23,
   "id": "c856878c",
   "metadata": {},
   "outputs": [
    {
     "data": {
      "text/plain": [
       "array([1., 0., 0.])"
      ]
     },
     "execution_count": 23,
     "metadata": {},
     "output_type": "execute_result"
    }
   ],
   "source": [
    "#individual eigen vectors are corresponding coulmns\n",
    "vec1 = eig_vec[:,0]\n",
    "vec1"
   ]
  },
  {
   "cell_type": "code",
   "execution_count": 24,
   "id": "73e23993",
   "metadata": {},
   "outputs": [
    {
     "data": {
      "text/plain": [
       "array([1., 0., 0.])"
      ]
     },
     "execution_count": 24,
     "metadata": {},
     "output_type": "execute_result"
    }
   ],
   "source": [
    "M1@vec1 "
   ]
  },
  {
   "cell_type": "code",
   "execution_count": 32,
   "id": "d663d53c",
   "metadata": {},
   "outputs": [
    {
     "data": {
      "text/plain": [
       "array([1, 0, 0])"
      ]
     },
     "execution_count": 32,
     "metadata": {},
     "output_type": "execute_result"
    }
   ],
   "source": [
    "#definition of eigen value is M1@vec1 = M1[0]*vec1\n",
    "M1[0]\n",
    "#M1[0] * vec1 "
   ]
  },
  {
   "cell_type": "markdown",
   "id": "4a7e5042",
   "metadata": {},
   "source": [
    "## Examples\n",
    "\n",
    "### Problem 1:\n",
    "\n",
    "Let $f(x,y)=e^{-(x^2+y^2)}.sin(x) for -2 \\leq x \\leq 2 and -2 \\leq y \\leq 2$  \n",
    "1. Make a contour plot of *f*\n",
    "2. Find the volume $|f(x,y)|$ in the specified x and y range.\n",
    "3. Find the volume $|f(x,y)|$ only in the region where $\\sqrt {x^2+y^2}>0.5$"
   ]
  },
  {
   "cell_type": "code",
   "execution_count": 42,
   "id": "5d08daa5",
   "metadata": {},
   "outputs": [],
   "source": [
    "#1\n",
    "x = np.linspace(-2,2,1000)\n",
    "y = np.linspace(-2,2,1000)\n",
    "xv , yv = np.meshgrid(x,y)"
   ]
  },
  {
   "cell_type": "code",
   "execution_count": 43,
   "id": "01681ca6",
   "metadata": {},
   "outputs": [
    {
     "data": {
      "text/plain": [
       "(array([[-2.        , -1.995996  , -1.99199199, ...,  1.99199199,\n",
       "          1.995996  ,  2.        ],\n",
       "        [-2.        , -1.995996  , -1.99199199, ...,  1.99199199,\n",
       "          1.995996  ,  2.        ],\n",
       "        [-2.        , -1.995996  , -1.99199199, ...,  1.99199199,\n",
       "          1.995996  ,  2.        ],\n",
       "        ...,\n",
       "        [-2.        , -1.995996  , -1.99199199, ...,  1.99199199,\n",
       "          1.995996  ,  2.        ],\n",
       "        [-2.        , -1.995996  , -1.99199199, ...,  1.99199199,\n",
       "          1.995996  ,  2.        ],\n",
       "        [-2.        , -1.995996  , -1.99199199, ...,  1.99199199,\n",
       "          1.995996  ,  2.        ]]),\n",
       " array([[-2.        , -2.        , -2.        , ..., -2.        ,\n",
       "         -2.        , -2.        ],\n",
       "        [-1.995996  , -1.995996  , -1.995996  , ..., -1.995996  ,\n",
       "         -1.995996  , -1.995996  ],\n",
       "        [-1.99199199, -1.99199199, -1.99199199, ..., -1.99199199,\n",
       "         -1.99199199, -1.99199199],\n",
       "        ...,\n",
       "        [ 1.99199199,  1.99199199,  1.99199199, ...,  1.99199199,\n",
       "          1.99199199,  1.99199199],\n",
       "        [ 1.995996  ,  1.995996  ,  1.995996  , ...,  1.995996  ,\n",
       "          1.995996  ,  1.995996  ],\n",
       "        [ 2.        ,  2.        ,  2.        , ...,  2.        ,\n",
       "          2.        ,  2.        ]]))"
      ]
     },
     "execution_count": 43,
     "metadata": {},
     "output_type": "execute_result"
    }
   ],
   "source": [
    "xv ,yv"
   ]
  },
  {
   "cell_type": "code",
   "execution_count": 75,
   "id": "7b05d5f0",
   "metadata": {},
   "outputs": [
    {
     "data": {
      "text/plain": [
       "array([[-0.00030504, -0.00031052, -0.00031609, ...,  0.00031609,\n",
       "         0.00031052,  0.00030504],\n",
       "       [-0.00030996, -0.00031553, -0.00032119, ...,  0.00032119,\n",
       "         0.00031553,  0.00030996],\n",
       "       [-0.00031494, -0.00032061, -0.00032636, ...,  0.00032636,\n",
       "         0.00032061,  0.00031494],\n",
       "       ...,\n",
       "       [-0.00031494, -0.00032061, -0.00032636, ...,  0.00032636,\n",
       "         0.00032061,  0.00031494],\n",
       "       [-0.00030996, -0.00031553, -0.00032119, ...,  0.00032119,\n",
       "         0.00031553,  0.00030996],\n",
       "       [-0.00030504, -0.00031052, -0.00031609, ...,  0.00031609,\n",
       "         0.00031052,  0.00030504]])"
      ]
     },
     "execution_count": 75,
     "metadata": {},
     "output_type": "execute_result"
    }
   ],
   "source": [
    "f = np.exp(-(xv**2+yv**2))* np.sin(xv)\n",
    "f"
   ]
  },
  {
   "cell_type": "code",
   "execution_count": 76,
   "id": "a90fe4d5",
   "metadata": {},
   "outputs": [
    {
     "data": {
      "text/plain": [
       "<matplotlib.colorbar.Colorbar at 0x7fe505fc38b0>"
      ]
     },
     "execution_count": 76,
     "metadata": {},
     "output_type": "execute_result"
    },
    {
     "data": {
      "image/png": "[encoded data removed]",
      "text/plain": [
       "<Figure size 432x288 with 2 Axes>"
      ]
     },
     "metadata": {
      "needs_background": "light"
     },
     "output_type": "display_data"
    }
   ],
   "source": [
    "plt.contourf(xv,yv,f,levels=100)\n",
    "plt.colorbar()"
   ]
  },
  {
   "cell_type": "code",
   "execution_count": 68,
   "id": "a5298024",
   "metadata": {},
   "outputs": [],
   "source": [
    "#to find dx and dy use diff()\n",
    "dx_arr = np.diff(x)\n",
    "dy_arr = np.diff(y)\n",
    "\n",
    "dx = np.diff(x)[0]\n",
    "dy = np.diff(y)[0]\n"
   ]
  },
  {
   "cell_type": "code",
   "execution_count": 69,
   "id": "8bf77a69",
   "metadata": {},
   "outputs": [
    {
     "data": {
      "text/plain": [
       "1.4861858145124311"
      ]
     },
     "execution_count": 69,
     "metadata": {},
     "output_type": "execute_result"
    }
   ],
   "source": [
    "#2\n",
    "#to find the total volume we have to find the double integral of the function. ie, to find the sum all the values of the function f(x,y)\n",
    "\n",
    "#to change to 2d array to 1d array and sum all the values using ravel()\n",
    "\n",
    "np.abs(f.ravel()).sum()*dx*dy"
   ]
  },
  {
   "cell_type": "code",
   "execution_count": 81,
   "id": "1bf09208",
   "metadata": {},
   "outputs": [
    {
     "data": {
      "text/plain": [
       "array([-0.00030504, -0.00031052, -0.00031609, ...,  0.00031609,\n",
       "        0.00031052,  0.00030504])"
      ]
     },
     "execution_count": 81,
     "metadata": {},
     "output_type": "execute_result"
    }
   ],
   "source": [
    "#3\n",
    "xv**2+yv**2 > 0.5**2\n",
    "\n",
    "f[xv**2+yv**2 > 0.5**2]"
   ]
  },
  {
   "cell_type": "code",
   "execution_count": 78,
   "id": "10c8de18",
   "metadata": {},
   "outputs": [
    {
     "data": {
      "text/plain": [
       "1.3447652930203164"
      ]
     },
     "execution_count": 78,
     "metadata": {},
     "output_type": "execute_result"
    }
   ],
   "source": [
    "np.abs(f[xv**2+yv**2 > 0.5**2].ravel()).sum()*dx*dy"
   ]
  },
  {
   "cell_type": "code",
   "execution_count": null,
   "id": "1013ef14",
   "metadata": {},
   "outputs": [],
   "source": []
  },
  {
   "cell_type": "markdown",
   "id": "8f20fadf",
   "metadata": {},
   "source": [
    "### Problem 2:\n",
    "\n",
    "After examining a circuit full of resistors, you find that the voltage at 4 specified points is given by\n",
    "\n",
    "$ 3V_1+2V_2+3V_3+10V_4 = 4\\\\$\n",
    "$ 2V_1-2V_2+5V_3+8V_4 = 1 $  \n",
    "\n",
    "$ 3V_1+3V_2+4V_3+9V_4 = 3 $  \n",
    "\n",
    "$ 3V_1+4V_2-3V_3-7V_4 = 2 $  \n",
    "\n",
    "\n",
    "Find all the voltages "
   ]
  },
  {
   "cell_type": "code",
   "execution_count": 3,
   "id": "cc532470",
   "metadata": {},
   "outputs": [
    {
     "data": {
      "text/plain": [
       "array([ 0.78378378,  0.03603604, -0.67567568,  0.36036036])"
      ]
     },
     "execution_count": 3,
     "metadata": {},
     "output_type": "execute_result"
    }
   ],
   "source": [
    "#we have to solve the system of equation \n",
    "#use linalg.solve() function to solve for V1, V2, V3 and V4.\n",
    "\n",
    "volt = np.array([[3,2,3,10],[2,-2,5,8],[3,3,4,9],[3,4,-3,-7]])\n",
    "val = np.array([4,1,3,2])\n",
    "np.linalg.solve(volt,val)"
   ]
  },
  {
   "cell_type": "code",
   "execution_count": null,
   "id": "474ee969",
   "metadata": {},
   "outputs": [],
   "source": []
  },
  {
   "cell_type": "markdown",
   "id": "948c6843",
   "metadata": {},
   "source": [
    "### Problem 3: (tough)\n",
    "\n",
    "\n",
    "An electric field is given by $\\vec{E}(z,t) = E_0cos (z-t)\\hat{x} + 2E_0\\cos(z-t+\\pi/2)\\hat{y}$.\n",
    "1. Find the magnetic field for all $ z \\in [0,4\\pi]$ and $t \\in [0,10]$ using $c \\vec{B}(z,t) = \\hat{z} \\times \\vec{E}(z,t)$\n",
    "2. Compute the Poynting vector $\\vec{S} = \\vec{E} \\times \\vec{B}$ for all $z$ and $t$"
   ]
  },
  {
   "cell_type": "code",
   "execution_count": 43,
   "id": "fb575bb3",
   "metadata": {},
   "outputs": [],
   "source": [
    "#1\n",
    "z = np.linspace(0,4*np.pi,1000)\n",
    "t = np.linspace(0,10,1000)\n",
    "\n",
    "zv,tv = np.meshgrid(z,t)\n",
    "\n",
    "Ex = np.cos(zv-tv)\n",
    "Ey = 2*np.cos(zv-tv+(np.pi/2))\n",
    "Ez = 0*zv\n"
   ]
  },
  {
   "cell_type": "markdown",
   "id": "c21e8df0",
   "metadata": {},
   "source": [
    "$E_x$ as a fuction of *t* at $z=0$"
   ]
  },
  {
   "cell_type": "code",
   "execution_count": 41,
   "id": "513ef813",
   "metadata": {},
   "outputs": [
    {
     "data": {
      "text/plain": [
       "Text(0, 0.5, 'Ex')"
      ]
     },
     "execution_count": 41,
     "metadata": {},
     "output_type": "execute_result"
    },
    {
     "data": {
      "image/png": "[encoded data removed]",
      "text/plain": [
       "<Figure size 432x288 with 1 Axes>"
      ]
     },
     "metadata": {
      "needs_background": "light"
     },
     "output_type": "display_data"
    }
   ],
   "source": [
    "plt.plot(t,Ex[0])\n",
    "plt.xlabel('time(t)')\n",
    "plt.ylabel('Ex')"
   ]
  },
  {
   "cell_type": "markdown",
   "id": "18889338",
   "metadata": {},
   "source": [
    "$E_x$ as a function of z at t =0"
   ]
  },
  {
   "cell_type": "code",
   "execution_count": 42,
   "id": "c26507a4",
   "metadata": {},
   "outputs": [
    {
     "data": {
      "text/plain": [
       "[<matplotlib.lines.Line2D at 0x7f29f57df760>]"
      ]
     },
     "execution_count": 42,
     "metadata": {},
     "output_type": "execute_result"
    },
    {
     "data": {
      "image/png": "[encoded data removed]",
      "text/plain": [
       "<Figure size 432x288 with 1 Axes>"
      ]
     },
     "metadata": {
      "needs_background": "light"
     },
     "output_type": "display_data"
    }
   ],
   "source": [
    "plt.plot(t,Ex[:,0])"
   ]
  },
  {
   "cell_type": "code",
   "execution_count": 49,
   "id": "1b5aa6c2",
   "metadata": {},
   "outputs": [
    {
     "data": {
      "text/plain": [
       "array([[[ 1.00000000e+00,  9.99920886e-01,  9.99683557e-01, ...,\n",
       "          9.99683557e-01,  9.99920886e-01,  1.00000000e+00],\n",
       "        [ 9.99949900e-01,  9.99996700e-01,  9.99885273e-01, ...,\n",
       "          9.99381673e-01,  9.99744880e-01,  9.99949900e-01],\n",
       "        [ 9.99799606e-01,  9.99972315e-01,  9.99986801e-01, ...,\n",
       "          9.98979651e-01,  9.99468701e-01,  9.99799606e-01],\n",
       "        ...,\n",
       "        [-8.49793970e-01, -8.56357118e-01, -8.62784766e-01, ...,\n",
       "         -8.36265352e-01, -8.43096362e-01, -8.49793970e-01],\n",
       "        [-8.44475058e-01, -8.51145291e-01, -8.57680850e-01, ...,\n",
       "         -8.30734809e-01, -8.37671205e-01, -8.44475058e-01],\n",
       "        [-8.39071529e-01, -8.45848180e-01, -8.52490995e-01, ...,\n",
       "         -8.25121026e-01, -8.32162113e-01, -8.39071529e-01]],\n",
       "\n",
       "       [[ 1.22464680e-16, -2.51572357e-02, -5.03104908e-02, ...,\n",
       "          5.03104908e-02,  2.51572357e-02,  1.10218212e-15],\n",
       "        [ 2.00196857e-02, -5.13787346e-03, -3.02946196e-02, ...,\n",
       "          7.03213208e-02,  4.51740772e-02,  2.00196857e-02],\n",
       "        [ 4.00373654e-02,  1.48820036e-02, -1.02757130e-02, ...,\n",
       "          9.03251047e-02,  6.51863922e-02,  4.00373654e-02],\n",
       "        ...,\n",
       "        [-1.05422997e+00, -1.03276810e+00, -1.01114282e+00, ...,\n",
       "         -1.09664992e+00, -1.07552503e+00, -1.05422997e+00],\n",
       "        [-1.07118976e+00, -1.04986036e+00, -1.02836484e+00, ...,\n",
       "         -1.11333675e+00, -1.09234967e+00, -1.07118976e+00],\n",
       "        [-1.08804222e+00, -1.06684742e+00, -1.04548382e+00, ...,\n",
       "         -1.12991202e+00, -1.10906486e+00, -1.08804222e+00]],\n",
       "\n",
       "       [[ 0.00000000e+00,  0.00000000e+00,  0.00000000e+00, ...,\n",
       "          0.00000000e+00,  0.00000000e+00,  0.00000000e+00],\n",
       "        [ 0.00000000e+00,  0.00000000e+00,  0.00000000e+00, ...,\n",
       "          0.00000000e+00,  0.00000000e+00,  0.00000000e+00],\n",
       "        [ 0.00000000e+00,  0.00000000e+00,  0.00000000e+00, ...,\n",
       "          0.00000000e+00,  0.00000000e+00,  0.00000000e+00],\n",
       "        ...,\n",
       "        [ 0.00000000e+00,  0.00000000e+00,  0.00000000e+00, ...,\n",
       "          0.00000000e+00,  0.00000000e+00,  0.00000000e+00],\n",
       "        [ 0.00000000e+00,  0.00000000e+00,  0.00000000e+00, ...,\n",
       "          0.00000000e+00,  0.00000000e+00,  0.00000000e+00],\n",
       "        [ 0.00000000e+00,  0.00000000e+00,  0.00000000e+00, ...,\n",
       "          0.00000000e+00,  0.00000000e+00,  0.00000000e+00]]])"
      ]
     },
     "execution_count": 49,
     "metadata": {},
     "output_type": "execute_result"
    }
   ],
   "source": [
    "#2\n",
    "E = np.array([Ex,Ey,Ez])\n",
    "E"
   ]
  },
  {
   "cell_type": "markdown",
   "id": "85193391",
   "metadata": {},
   "source": [
    "Now here we have a 3D arryas with [Ex],[Ey],[Ez]  \n",
    "But we can do better!!!\n",
    "We can make an array like [Ex,Ey,Ez] like every point as a vector (Ex,Ey,Ez) using ***np.swapaxes()**  "
   ]
  },
  {
   "cell_type": "code",
   "execution_count": 50,
   "id": "138084a3",
   "metadata": {
    "scrolled": true
   },
   "outputs": [
    {
     "data": {
      "text/plain": [
       "array([[[ 1.00000000e+00,  1.22464680e-16,  0.00000000e+00],\n",
       "        [ 9.99949900e-01,  2.00196857e-02,  0.00000000e+00],\n",
       "        [ 9.99799606e-01,  4.00373654e-02,  0.00000000e+00],\n",
       "        ...,\n",
       "        [-8.49793970e-01, -1.05422997e+00,  0.00000000e+00],\n",
       "        [-8.44475058e-01, -1.07118976e+00,  0.00000000e+00],\n",
       "        [-8.39071529e-01, -1.08804222e+00,  0.00000000e+00]],\n",
       "\n",
       "       [[ 9.99920886e-01, -2.51572357e-02,  0.00000000e+00],\n",
       "        [ 9.99996700e-01, -5.13787346e-03,  0.00000000e+00],\n",
       "        [ 9.99972315e-01,  1.48820036e-02,  0.00000000e+00],\n",
       "        ...,\n",
       "        [-8.56357118e-01, -1.03276810e+00,  0.00000000e+00],\n",
       "        [-8.51145291e-01, -1.04986036e+00,  0.00000000e+00],\n",
       "        [-8.45848180e-01, -1.06684742e+00,  0.00000000e+00]],\n",
       "\n",
       "       [[ 9.99683557e-01, -5.03104908e-02,  0.00000000e+00],\n",
       "        [ 9.99885273e-01, -3.02946196e-02,  0.00000000e+00],\n",
       "        [ 9.99986801e-01, -1.02757130e-02,  0.00000000e+00],\n",
       "        ...,\n",
       "        [-8.62784766e-01, -1.01114282e+00,  0.00000000e+00],\n",
       "        [-8.57680850e-01, -1.02836484e+00,  0.00000000e+00],\n",
       "        [-8.52490995e-01, -1.04548382e+00,  0.00000000e+00]],\n",
       "\n",
       "       ...,\n",
       "\n",
       "       [[ 9.99683557e-01,  5.03104908e-02,  0.00000000e+00],\n",
       "        [ 9.99381673e-01,  7.03213208e-02,  0.00000000e+00],\n",
       "        [ 9.98979651e-01,  9.03251047e-02,  0.00000000e+00],\n",
       "        ...,\n",
       "        [-8.36265352e-01, -1.09664992e+00,  0.00000000e+00],\n",
       "        [-8.30734809e-01, -1.11333675e+00,  0.00000000e+00],\n",
       "        [-8.25121026e-01, -1.12991202e+00,  0.00000000e+00]],\n",
       "\n",
       "       [[ 9.99920886e-01,  2.51572357e-02,  0.00000000e+00],\n",
       "        [ 9.99744880e-01,  4.51740772e-02,  0.00000000e+00],\n",
       "        [ 9.99468701e-01,  6.51863922e-02,  0.00000000e+00],\n",
       "        ...,\n",
       "        [-8.43096362e-01, -1.07552503e+00,  0.00000000e+00],\n",
       "        [-8.37671205e-01, -1.09234967e+00,  0.00000000e+00],\n",
       "        [-8.32162113e-01, -1.10906486e+00,  0.00000000e+00]],\n",
       "\n",
       "       [[ 1.00000000e+00,  1.10218212e-15,  0.00000000e+00],\n",
       "        [ 9.99949900e-01,  2.00196857e-02,  0.00000000e+00],\n",
       "        [ 9.99799606e-01,  4.00373654e-02,  0.00000000e+00],\n",
       "        ...,\n",
       "        [-8.49793970e-01, -1.05422997e+00,  0.00000000e+00],\n",
       "        [-8.44475058e-01, -1.07118976e+00,  0.00000000e+00],\n",
       "        [-8.39071529e-01, -1.08804222e+00,  0.00000000e+00]]])"
      ]
     },
     "execution_count": 50,
     "metadata": {},
     "output_type": "execute_result"
    }
   ],
   "source": [
    "#making the vector using swapaxes()\n",
    "# 0 - outer axes \n",
    "# -1 - the last axes which are all the individual point themselves\n",
    "E = np.swapaxes(E,0,-1)\n",
    "E"
   ]
  },
  {
   "cell_type": "code",
   "execution_count": 53,
   "id": "6e0327f8",
   "metadata": {},
   "outputs": [
    {
     "data": {
      "text/plain": [
       "array([[[-1.22464680e-16,  1.00000000e+00,  0.00000000e+00],\n",
       "        [-2.00196857e-02,  9.99949900e-01,  0.00000000e+00],\n",
       "        [-4.00373654e-02,  9.99799606e-01,  0.00000000e+00],\n",
       "        ...,\n",
       "        [ 1.05422997e+00, -8.49793970e-01,  0.00000000e+00],\n",
       "        [ 1.07118976e+00, -8.44475058e-01,  0.00000000e+00],\n",
       "        [ 1.08804222e+00, -8.39071529e-01,  0.00000000e+00]],\n",
       "\n",
       "       [[ 2.51572357e-02,  9.99920886e-01, -0.00000000e+00],\n",
       "        [ 5.13787346e-03,  9.99996700e-01, -0.00000000e+00],\n",
       "        [-1.48820036e-02,  9.99972315e-01,  0.00000000e+00],\n",
       "        ...,\n",
       "        [ 1.03276810e+00, -8.56357118e-01,  0.00000000e+00],\n",
       "        [ 1.04986036e+00, -8.51145291e-01,  0.00000000e+00],\n",
       "        [ 1.06684742e+00, -8.45848180e-01,  0.00000000e+00]],\n",
       "\n",
       "       [[ 5.03104908e-02,  9.99683557e-01, -0.00000000e+00],\n",
       "        [ 3.02946196e-02,  9.99885273e-01, -0.00000000e+00],\n",
       "        [ 1.02757130e-02,  9.99986801e-01, -0.00000000e+00],\n",
       "        ...,\n",
       "        [ 1.01114282e+00, -8.62784766e-01,  0.00000000e+00],\n",
       "        [ 1.02836484e+00, -8.57680850e-01,  0.00000000e+00],\n",
       "        [ 1.04548382e+00, -8.52490995e-01,  0.00000000e+00]],\n",
       "\n",
       "       ...,\n",
       "\n",
       "       [[-5.03104908e-02,  9.99683557e-01,  0.00000000e+00],\n",
       "        [-7.03213208e-02,  9.99381673e-01,  0.00000000e+00],\n",
       "        [-9.03251047e-02,  9.98979651e-01,  0.00000000e+00],\n",
       "        ...,\n",
       "        [ 1.09664992e+00, -8.36265352e-01,  0.00000000e+00],\n",
       "        [ 1.11333675e+00, -8.30734809e-01,  0.00000000e+00],\n",
       "        [ 1.12991202e+00, -8.25121026e-01,  0.00000000e+00]],\n",
       "\n",
       "       [[-2.51572357e-02,  9.99920886e-01,  0.00000000e+00],\n",
       "        [-4.51740772e-02,  9.99744880e-01,  0.00000000e+00],\n",
       "        [-6.51863922e-02,  9.99468701e-01,  0.00000000e+00],\n",
       "        ...,\n",
       "        [ 1.07552503e+00, -8.43096362e-01,  0.00000000e+00],\n",
       "        [ 1.09234967e+00, -8.37671205e-01,  0.00000000e+00],\n",
       "        [ 1.10906486e+00, -8.32162113e-01,  0.00000000e+00]],\n",
       "\n",
       "       [[-1.10218212e-15,  1.00000000e+00,  0.00000000e+00],\n",
       "        [-2.00196857e-02,  9.99949900e-01,  0.00000000e+00],\n",
       "        [-4.00373654e-02,  9.99799606e-01,  0.00000000e+00],\n",
       "        ...,\n",
       "        [ 1.05422997e+00, -8.49793970e-01,  0.00000000e+00],\n",
       "        [ 1.07118976e+00, -8.44475058e-01,  0.00000000e+00],\n",
       "        [ 1.08804222e+00, -8.39071529e-01,  0.00000000e+00]]])"
      ]
     },
     "execution_count": 53,
     "metadata": {},
     "output_type": "execute_result"
    }
   ],
   "source": [
    "B = np.cross(np.array([0,0,1]),E)\n",
    "B"
   ]
  },
  {
   "cell_type": "code",
   "execution_count": 54,
   "id": "93c0e680",
   "metadata": {},
   "outputs": [],
   "source": [
    "B =np.swapaxes(B,0,-1)"
   ]
  },
  {
   "cell_type": "code",
   "execution_count": 59,
   "id": "3c9d6906",
   "metadata": {},
   "outputs": [],
   "source": [
    "Bx, By, Bz = B"
   ]
  },
  {
   "cell_type": "code",
   "execution_count": 61,
   "id": "d9200a91",
   "metadata": {},
   "outputs": [
    {
     "data": {
      "text/plain": [
       "[<matplotlib.lines.Line2D at 0x7f29f56e4730>]"
      ]
     },
     "execution_count": 61,
     "metadata": {},
     "output_type": "execute_result"
    },
    {
     "data": {
      "image/png": "[encoded data removed]",
      "text/plain": [
       "<Figure size 432x288 with 1 Axes>"
      ]
     },
     "metadata": {
      "needs_background": "light"
     },
     "output_type": "display_data"
    }
   ],
   "source": [
    "plt.plot(t,Ey[0])\n",
    "plt.plot(t,Bx[0])"
   ]
  },
  {
   "cell_type": "code",
   "execution_count": null,
   "id": "3c18b416",
   "metadata": {},
   "outputs": [],
   "source": []
  },
  {
   "cell_type": "markdown",
   "id": "c47b8cea",
   "metadata": {},
   "source": [
    "### Problem 4: (tougher)\n",
    "\n",
    "Find the solutions to $\\left(\\frac{d^2}{dx^2} + (10x)^2\\right) f = \\lambda f$ with boundary conditions $f(0)=f(1)=0$,  \n",
    "\n",
    "* use the eigenvalue method and the fact that $\\frac{d^2 f}{dx^2} \\approx \\frac{f_{i+1} + f_{i-1} - 2f_i}{\\Delta x^2}$ where $f_i = f(i \\Delta x)$ and $i$ is an integer."
   ]
  },
  {
   "cell_type": "code",
   "execution_count": null,
   "id": "3cd0c6b1",
   "metadata": {},
   "outputs": [],
   "source": []
  },
  {
   "cell_type": "code",
   "execution_count": null,
   "id": "3bee64fc",
   "metadata": {},
   "outputs": [],
   "source": []
  }
 ],
 "metadata": {
  "kernelspec": {
   "display_name": "Python 3 (ipykernel)",
   "language": "python",
   "name": "python3"
  },
  "language_info": {
   "codemirror_mode": {
    "name": "ipython",
    "version": 3
   },
   "file_extension": ".py",
   "mimetype": "text/x-python",
   "name": "python",
   "nbconvert_exporter": "python",
   "pygments_lexer": "ipython3",
   "version": "3.8.10"
  }
 },
 "nbformat": 4,
 "nbformat_minor": 5
}
