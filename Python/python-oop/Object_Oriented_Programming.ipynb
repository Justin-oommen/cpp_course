{
 "cells": [
  {
   "cell_type": "markdown",
   "id": "9bb806de",
   "metadata": {},
   "source": [
    "# Object Oriented Programming"
   ]
  },
  {
   "cell_type": "markdown",
   "id": "b2873c6c",
   "metadata": {},
   "source": [
    "1. Class:  \n",
    "\n",
    "    - Class are just like a buliding blueprint. They provide specific instructions of how to construct a building.\n",
    "    - __ main __ simply means main file, this is a convention.  \n",
    "      whenever we execute some module python, python names the main module as '__ main __'.\n",
    "    - The first function inside our class always has to be special class\n",
    "      __ init __ . The first argument should always be **self**. **This method return nothing**. It act as reference.\n",
    "     - __ repe__ --> **Returns a string**. Official representation of class.\n",
    "     - __ str__  -->  String representation of an instance\n",
    "     \n",
    "     - p1,p2 are instance of class Person. Instance is an object of type class."
   ]
  },
  {
   "cell_type": "code",
   "execution_count": 14,
   "id": "9d7c9f0e",
   "metadata": {},
   "outputs": [
    {
     "name": "stdout",
     "output_type": "stream",
     "text": [
      "<class '__main__.SomeClass'>\n"
     ]
    }
   ],
   "source": [
    "class SomeClass:\n",
    "    \"\"\"Defines empty class\"\"\"\n",
    "    \n",
    "    pass\n",
    "\n",
    "print(SomeClass)"
   ]
  },
  {
   "cell_type": "code",
   "execution_count": 15,
   "id": "7e89dc6b",
   "metadata": {},
   "outputs": [
    {
     "name": "stdout",
     "output_type": "stream",
     "text": [
      "Person: Justin P.Oommen\n",
      "Person: Nikhil Mohan\n",
      "Justin\n",
      "Nikhil\n",
      "Hi Justin\n",
      "Hi Nikhil\n"
     ]
    }
   ],
   "source": [
    "class Person:\n",
    "    \"\"\"Defines a person\"\"\"\n",
    "    def __init__(self,first_name, last_name):\n",
    "        self.first_name = first_name #creating an instance variable\n",
    "        self.last_name = last_name\n",
    "    \n",
    "    def __repr__(self):\n",
    "        return '<class  \"Person\">'\n",
    "    \n",
    "    def __str__(self):\n",
    "        return f\"Person: {self.first_name} {self.last_name}\"\n",
    "    #This is method\n",
    "    def greet(self):\n",
    "        print(f\"Hi {self.first_name}\")\n",
    "    \n",
    "p1 = Person(\"Justin\", \"P.Oommen\")\n",
    "p2 = Person(\"Nikhil\", \"Mohan\")\n",
    "print(p1)\n",
    "print(p2)\n",
    "print(p1.first_name)\n",
    "print(p2.first_name)\n",
    "p1.greet()\n",
    "p2.greet()"
   ]
  },
  {
   "cell_type": "code",
   "execution_count": 16,
   "id": "b01f54ec",
   "metadata": {},
   "outputs": [
    {
     "name": "stdout",
     "output_type": "stream",
     "text": [
      "Value: 2, Error: 0.003\n"
     ]
    }
   ],
   "source": [
    "class Datum:\n",
    "    \n",
    "    def __init__(self,value,error):\n",
    "        self.value = value\n",
    "        self.error = error\n",
    "        \n",
    "    def __repr__(self):\n",
    "        return 'class<class \"Datum\">'\n",
    "    \n",
    "    def __str__(self):\n",
    "        return f\"Value: {self.value}, Error: {self.error}\"\n",
    "    \n",
    "d1 = Datum(2,0.003)\n",
    "print(d1)"
   ]
  },
  {
   "cell_type": "markdown",
   "id": "2247fdf3",
   "metadata": {},
   "source": [
    "- **We can use init,repr,str and others as regular functions** - Not RECOMMENDED"
   ]
  },
  {
   "cell_type": "code",
   "execution_count": 17,
   "id": "ee2b2e01",
   "metadata": {},
   "outputs": [
    {
     "name": "stdout",
     "output_type": "stream",
     "text": [
      "<class  \"Person\">\n",
      "Person: Justin P.Oommen\n",
      "class<class \"Datum\">\n",
      "Value: 2, Error: 0.003\n"
     ]
    }
   ],
   "source": [
    "print(p1.__repr__())\n",
    "print(p1.__str__())\n",
    "print(d1.__repr__())\n",
    "print(d1.__str__())"
   ]
  },
  {
   "cell_type": "markdown",
   "id": "f9143f3b",
   "metadata": {},
   "source": [
    "#### Game - characters to class"
   ]
  },
  {
   "cell_type": "code",
   "execution_count": 13,
   "id": "c5a96a0f",
   "metadata": {},
   "outputs": [
    {
     "name": "stdout",
     "output_type": "stream",
     "text": [
      "Name: Thanos, Attack Power: 1500, Life: 1000\n",
      "Name: Redskull, Attack Power: 800, Life: 500\n",
      "Name: Ironman, Attack Power: 1500, Life: 900\n",
      "Name: Spiderman, Attack Power: 1000, Life: 700\n"
     ]
    }
   ],
   "source": [
    "class Character:\n",
    "    #constructor\n",
    "    def __init__(self,name,attack_power,life):\n",
    "        self.name = name\n",
    "        self.attack_power = attack_power\n",
    "        self.life = life\n",
    "        \n",
    "    def __repr__(self):\n",
    "        return 'class <\"Character\">'\n",
    "    \n",
    "    def __str__(self):\n",
    "        return f\"Name: {self.name}, Attack Power: {self.attack_power}, Life: {self.life}\"\n",
    "    \n",
    "villian_1 = Character(\"Thanos\",1500,1000)\n",
    "print(villian_1)\n",
    "\n",
    "#we can use key-value pairs and the order doesn't matter\n",
    "\n",
    "villian_2 = Character(name= \"Redskull\",attack_power=800, life=500)\n",
    "print(villian_2)\n",
    "\n",
    "hero_1 = Character(name= \"Ironman\",attack_power=1500, life=900)\n",
    "print(hero_1)\n",
    "hero_2 = Character(name= \"Spiderman\",attack_power=1000, life=700)\n",
    "print(hero_2)\n"
   ]
  },
  {
   "cell_type": "markdown",
   "id": "1f667451",
   "metadata": {},
   "source": [
    "**When we need a class:**  \n",
    "\n",
    "Use classess only when we need 'Structure' and 'Behaviour' together.  \n",
    "If we need only structure use any existing data structure such as tuples,list,dictionary etc.  \n",
    "If we need only behaviour, then create a function that transforms our data."
   ]
  },
  {
   "cell_type": "code",
   "execution_count": 11,
   "id": "52bd41da",
   "metadata": {},
   "outputs": [],
   "source": [
    "#help()"
   ]
  },
  {
   "cell_type": "markdown",
   "id": "feb17921",
   "metadata": {},
   "source": [
    "Class members or variables are declared outside the constructor which make them avialble to all of the classess and instances."
   ]
  },
  {
   "cell_type": "code",
   "execution_count": 19,
   "id": "f46b6340",
   "metadata": {},
   "outputs": [
    {
     "name": "stdout",
     "output_type": "stream",
     "text": [
      "side A: 3, side B: 4\n",
      "Packaging Carton\n",
      "Brown\n"
     ]
    }
   ],
   "source": [
    "class Box:\n",
    "    #class members\n",
    "    box_type = \"Packaging Carton\"\n",
    "    color = \"Brown\"\n",
    "    \n",
    "    def __init__(self,side_a,side_b):\n",
    "        #instance varibale\n",
    "        self.side_a = side_a\n",
    "        self.side_b = side_b\n",
    "        \n",
    "    def __str__(self):\n",
    "        return f\"side A: {self.side_a}, side B: {self.side_b}\"\n",
    "    \n",
    "\n",
    "b1 = Box(3,4)\n",
    "print(b1)\n",
    "\n",
    "print(b1.box_type)\n",
    "print(b1.color)"
   ]
  },
  {
   "cell_type": "markdown",
   "id": "764e4964",
   "metadata": {},
   "source": [
    "**Class members/variables are available to class itself. We don't need to create an instance (like b1) to access it.**"
   ]
  },
  {
   "cell_type": "code",
   "execution_count": 21,
   "id": "7de37e79",
   "metadata": {},
   "outputs": [
    {
     "name": "stdout",
     "output_type": "stream",
     "text": [
      "Packaging Carton\n",
      "Brown\n"
     ]
    }
   ],
   "source": [
    "#the class variables are avialabe to class itself(also available to instances)\n",
    "print(Box.box_type)\n",
    "print(Box.color)"
   ]
  },
  {
   "cell_type": "markdown",
   "id": "21094fc8",
   "metadata": {},
   "source": [
    "**Inheritance and Polymorphism:**\n",
    "-"
   ]
  },
  {
   "cell_type": "markdown",
   "id": "25cb9267",
   "metadata": {},
   "source": [
    "**1. Inheritance:**  \n",
    "\n",
    "- We can inherit from classes and make them share common functionality. At the same time we can dynamically add another features and functionality as well."
   ]
  },
  {
   "cell_type": "code",
   "execution_count": 24,
   "id": "1ee9a8f5",
   "metadata": {},
   "outputs": [
    {
     "name": "stdout",
     "output_type": "stream",
     "text": [
      "Name: luffy\n",
      "luffy can't talk yet!!!\n"
     ]
    }
   ],
   "source": [
    "class Animal:\n",
    "    def __init__(self,name,age,num_legs):\n",
    "        self.name = name\n",
    "        self.age = age\n",
    "        self.num_legs = num_legs\n",
    "        \n",
    "\n",
    "    def __str__(self):\n",
    "        return f\"Name: {self.name}\"\n",
    "    \n",
    "    def talk(self):\n",
    "        print(f\"{self.name} can't talk yet!!!\")\n",
    "        \n",
    "a1 = Animal(\"luffy\",5,4)\n",
    "print(a1)\n",
    "\n",
    "a1.talk()"
   ]
  },
  {
   "cell_type": "code",
   "execution_count": 40,
   "id": "07b40e6c",
   "metadata": {},
   "outputs": [
    {
     "name": "stdout",
     "output_type": "stream",
     "text": [
      "Dog: nami, Breed: Beagle\n",
      "nami says woof!!!\n",
      "nami sniff shoe\n"
     ]
    }
   ],
   "source": [
    "class Dog(Animal):\n",
    "    def __init__(self,name,age,num_legs,breed):\n",
    "        # Take the common features, pass it to animal ==> super()\n",
    "        super().__init__(name,age,num_legs)\n",
    "        \n",
    "        self.breed = breed\n",
    "        #we can create instance variable even though they are not in argument\n",
    "        self.type = \"Dog\"\n",
    "        \n",
    "    def __str__(self): #cannot do print, always return string\n",
    "        return f\"{self.type}: {self.name}, Breed: {self.breed}\"\n",
    "     \n",
    "        \n",
    "    def talk(self):\n",
    "        print(f\"{self.name} says woof!!!\")\n",
    "        \n",
    "    def sniff(self,item):\n",
    "        print(f\"{self.name} sniff {item}\")\n",
    "        \n",
    "d1 = Dog(\"nami\", age=5, num_legs=4, breed=\"Beagle\")\n",
    "print(d1)\n",
    "d1.talk()\n",
    "d1.sniff(\"shoe\")"
   ]
  },
  {
   "cell_type": "code",
   "execution_count": 37,
   "id": "ee9b1354",
   "metadata": {},
   "outputs": [
    {
     "name": "stdout",
     "output_type": "stream",
     "text": [
      "Cat: nami, Breed: Persian\n",
      "nami says mew!!!\n"
     ]
    }
   ],
   "source": [
    "class Cat(Animal):\n",
    "    def __init__(self,name,age,num_legs,breed):\n",
    "        # Take the common features, pass it to animal ==> super()\n",
    "        super().__init__(name,age,num_legs)\n",
    "        \n",
    "        self.breed = breed\n",
    "        #we can create instance variable even though they are not in argument\n",
    "        self.type = \"Cat\"\n",
    "        \n",
    "    def __str__(self): #cannot do print, always return string\n",
    "        return f\"{self.type}: {self.name}, Breed: {self.breed}\"\n",
    "     \n",
    "        \n",
    "    def talk(self):\n",
    "        print(f\"{self.name} says mew!!!\")\n",
    "        \n",
    "        \n",
    "c1 = Cat(\"nami\", age=5, num_legs=4, breed=\"Persian\")\n",
    "print(c1)\n",
    "c1.talk()\n"
   ]
  },
  {
   "cell_type": "code",
   "execution_count": 38,
   "id": "eb053444",
   "metadata": {},
   "outputs": [
    {
     "name": "stdout",
     "output_type": "stream",
     "text": [
      "True\n"
     ]
    }
   ],
   "source": [
    "print(isinstance(d1,Animal)) #to check d1 inherit from Animal"
   ]
  },
  {
   "cell_type": "code",
   "execution_count": 41,
   "id": "cbe514df",
   "metadata": {},
   "outputs": [
    {
     "name": "stdout",
     "output_type": "stream",
     "text": [
      "True\n"
     ]
    }
   ],
   "source": [
    "print(isinstance(d1,Dog))"
   ]
  },
  {
   "cell_type": "markdown",
   "id": "4931b4d0",
   "metadata": {},
   "source": [
    "**Decorators:**  \n",
    "- Used to implement particular behaviour for our classes.\n",
    "- some of the decorators we are seeing is,  \n",
    "    1. **property**- acts like an instance variable, no need to call like function.\n",
    "    2. **static method**- Directly called from the class.\n",
    "    3. **class method**- Return a new instance of the class.\n",
    "    4. **getter & setter** - used for Data Encapsulation"
   ]
  },
  {
   "cell_type": "code",
   "execution_count": 57,
   "id": "523f315b",
   "metadata": {},
   "outputs": [],
   "source": [
    "#to create different roles. \n",
    "\"\"\"\n",
    "whenever we create new class we want dynamically give each person their\n",
    "salary according to their role(staff,manager,assosciate etc.)\n",
    "\n",
    "The best option to achieve it using ENUM\n",
    "\n",
    "\"\"\"\n",
    "from datetime import datetime\n",
    "from enum import Enum, auto\n",
    "\n",
    "class Role(Enum):\n",
    "    \"\"\"Role for staff members\"\"\"\n",
    "    ASSOCIATE = auto()\n",
    "    SUPERVISOR = auto()\n",
    "    MANAGER = auto()"
   ]
  },
  {
   "cell_type": "code",
   "execution_count": 53,
   "id": "fbdb1826",
   "metadata": {},
   "outputs": [
    {
     "name": "stdout",
     "output_type": "stream",
     "text": [
      "Person: Justin P.Oommen\n",
      "Justin P.Oommen\n"
     ]
    }
   ],
   "source": [
    "class Person:\n",
    "    def __init__(self,fname,lname):\n",
    "        self.fname = fname\n",
    "        self.lname = lname\n",
    "        \n",
    "    def __str__(self):\n",
    "        return f\"Person: {self.fname} {self.lname}\"\n",
    "    \n",
    "    #just like our instance variable\n",
    "    @property \n",
    "    def fullname(self):\n",
    "        return f\"{self.fname} {self.lname}\"\n",
    "    \n",
    "p1 = Person(\"Justin\", \"P.Oommen\")\n",
    "print(p1) \n",
    "print(p1.fullname) #no () with fullname because it is like an instance variable.\n"
   ]
  },
  {
   "cell_type": "code",
   "execution_count": 65,
   "id": "8f7e36ed",
   "metadata": {},
   "outputs": [
    {
     "name": "stdout",
     "output_type": "stream",
     "text": [
      "Staff ==> Name: Nikhil Mohan, ID: 1234\n"
     ]
    }
   ],
   "source": [
    "class Staff(Person):\n",
    "    def __init__(self,fname,lname,staff_id,role):\n",
    "        super().__init__(fname,lname)\n",
    "        self.staff_id =staff_id\n",
    "        self.is_staff = True\n",
    "        self.role = role\n",
    "        #Private member\n",
    "        self._date_joined = datetime.now() #underscore before means it is private member\n",
    "    \n",
    "    def __str__(self):\n",
    "            \n",
    "        return f\"Staff ==> Name: {self.fullname}, ID: {self.staff_id}\"\n",
    "        \n",
    "\n",
    "s = Staff(\"Nikhil\",\"Mohan\",1234,Role.MANAGER)\n",
    "print(s)\n",
    "        "
   ]
  },
  {
   "cell_type": "code",
   "execution_count": 66,
   "id": "b655e614",
   "metadata": {},
   "outputs": [
    {
     "data": {
      "text/plain": [
       "'\\nFrom Person we can create an another class \\nSuppose we want to create new Staff class from Exixting Person\\n'"
      ]
     },
     "execution_count": 66,
     "metadata": {},
     "output_type": "execute_result"
    }
   ],
   "source": [
    "\"\"\"\n",
    "From Person we can create an another class \n",
    "Suppose we want to create new Staff class from Exixting Person\n",
    "\"\"\""
   ]
  },
  {
   "cell_type": "markdown",
   "id": "be10fb00",
   "metadata": {},
   "source": [
    " "
   ]
  },
  {
   "cell_type": "markdown",
   "id": "0059dbe0",
   "metadata": {},
   "source": [
    "\n",
    " "
   ]
  },
  {
   "cell_type": "markdown",
   "id": "534f1a51",
   "metadata": {},
   "source": [
    "# Object_Oriented_Programming"
   ]
  },
  {
   "cell_type": "code",
   "execution_count": 1,
   "id": "a6284c28",
   "metadata": {},
   "outputs": [
    {
     "name": "stdout",
     "output_type": "stream",
     "text": [
      "<class 'str'>\n"
     ]
    }
   ],
   "source": [
    "item1 = \"Phone\"\n",
    "print(type(item1))"
   ]
  },
  {
   "cell_type": "markdown",
   "id": "166174d9",
   "metadata": {},
   "source": [
    "As you can see the above type is a class of string.  \n",
    "This means that the 'item1' is an instance of class string.  \n",
    "__In python every data type is an object that has been instantiated by some class__\n",
    "\n",
    "- **assert** - used to validate recieving arguments."
   ]
  },
  {
   "cell_type": "markdown",
   "id": "54db51fc",
   "metadata": {},
   "source": [
    "**Remember:** The fact that we use some attribute assignments in the constructor doesn't mean that we can add more attributes that we like after we instanciate the instances that we would like to."
   ]
  },
  {
   "cell_type": "code",
   "execution_count": 32,
   "id": "e5b006d9",
   "metadata": {},
   "outputs": [],
   "source": [
    "item2.has_numpad = False"
   ]
  },
  {
   "cell_type": "code",
   "execution_count": 16,
   "id": "43281a42",
   "metadata": {},
   "outputs": [
    {
     "ename": "AssertionError",
     "evalue": "",
     "output_type": "error",
     "traceback": [
      "\u001b[0;31m---------------------------------------------------------------------------\u001b[0m",
      "\u001b[0;31mAssertionError\u001b[0m                            Traceback (most recent call last)",
      "Input \u001b[0;32mIn [16]\u001b[0m, in \u001b[0;36m<cell line: 19>\u001b[0;34m()\u001b[0m\n\u001b[1;32m     16\u001b[0m         \u001b[38;5;28;01mreturn\u001b[39;00m \u001b[38;5;124mf\u001b[39m\u001b[38;5;124m\"\u001b[39m\u001b[38;5;132;01m{\u001b[39;00m\u001b[38;5;28mself\u001b[39m\u001b[38;5;241m.\u001b[39mname\u001b[38;5;132;01m}\u001b[39;00m\u001b[38;5;124m total price is \u001b[39m\u001b[38;5;132;01m{\u001b[39;00m\u001b[38;5;28mself\u001b[39m\u001b[38;5;241m.\u001b[39mprice\u001b[38;5;241m*\u001b[39m\u001b[38;5;28mself\u001b[39m\u001b[38;5;241m.\u001b[39mquantity\u001b[38;5;132;01m}\u001b[39;00m\u001b[38;5;124m\"\u001b[39m\n\u001b[1;32m     18\u001b[0m \u001b[38;5;66;03m#creating an instance    \u001b[39;00m\n\u001b[0;32m---> 19\u001b[0m item1 \u001b[38;5;241m=\u001b[39m \u001b[43mItem\u001b[49m\u001b[43m(\u001b[49m\u001b[43mname\u001b[49m\u001b[38;5;241;43m=\u001b[39;49m\u001b[38;5;124;43m\"\u001b[39;49m\u001b[38;5;124;43mPhone\u001b[39;49m\u001b[38;5;124;43m\"\u001b[39;49m\u001b[43m,\u001b[49m\u001b[43mprice\u001b[49m\u001b[38;5;241;43m=\u001b[39;49m\u001b[38;5;241;43m-\u001b[39;49m\u001b[38;5;241;43m1\u001b[39;49m\u001b[43m,\u001b[49m\u001b[43mquantity\u001b[49m\u001b[38;5;241;43m=\u001b[39;49m\u001b[38;5;241;43m5\u001b[39;49m\u001b[43m)\u001b[49m\n\u001b[1;32m     20\u001b[0m \u001b[38;5;28mprint\u001b[39m(item1\u001b[38;5;241m.\u001b[39mcalculate_total_price())\n\u001b[1;32m     21\u001b[0m \u001b[38;5;28mprint\u001b[39m(item1\u001b[38;5;241m.\u001b[39mname)\n",
      "Input \u001b[0;32mIn [16]\u001b[0m, in \u001b[0;36mItem.__init__\u001b[0;34m(self, name, price, quantity)\u001b[0m\n\u001b[1;32m      3\u001b[0m \u001b[38;5;28;01mdef\u001b[39;00m \u001b[38;5;21m__init__\u001b[39m(\u001b[38;5;28mself\u001b[39m,name: \u001b[38;5;28mstr\u001b[39m,price: \u001b[38;5;28mint\u001b[39m,quantity: \u001b[38;5;28mint\u001b[39m):\n\u001b[1;32m      4\u001b[0m     \u001b[38;5;66;03m# Run validation to recieved arguments\u001b[39;00m\n\u001b[0;32m----> 5\u001b[0m     \u001b[38;5;28;01massert\u001b[39;00m price \u001b[38;5;241m>\u001b[39m\u001b[38;5;241m=\u001b[39m \u001b[38;5;241m0\u001b[39m\n\u001b[1;32m      6\u001b[0m     \u001b[38;5;28;01massert\u001b[39;00m quantity \u001b[38;5;241m>\u001b[39m\u001b[38;5;241m=\u001b[39m \u001b[38;5;241m0\u001b[39m\n\u001b[1;32m      9\u001b[0m     \u001b[38;5;66;03m# assign self object\u001b[39;00m\n",
      "\u001b[0;31mAssertionError\u001b[0m: "
     ]
    }
   ],
   "source": [
    "class Item:\n",
    "    \n",
    "    def __init__(self,name: str,price: int,quantity: int):\n",
    "        # Run validation to recieved arguments\n",
    "        assert price >= 0\n",
    "        assert quantity >= 0\n",
    "        \n",
    "        \n",
    "        # assign self object\n",
    "        self.name = name\n",
    "        self.price = price\n",
    "        self.quantity = quantity\n",
    "    \n",
    "    #creating a method\n",
    "    def calculate_total_price(self):\n",
    "        return f\"{self.name} total price is {self.price*self.quantity}\"\n",
    "        \n",
    "#creating an instance    \n",
    "item1 = Item(name=\"Phone\",price=-1,quantity=5)\n",
    "print(item1.calculate_total_price())\n",
    "print(item1.name)\n",
    "print(item1.price)\n",
    "print(item1.quantity)\n",
    "\n",
    "\"\"\"\n",
    "#attributes of the instance item1\n",
    "item1.name = \"Phone\"\n",
    "item1.price = 100\n",
    "item1.quantity =  5\n",
    "print(item1.calculate_total_price())\n",
    "\n",
    "\"\"\"\n",
    "\n",
    "#creating an instance    \n",
    "item2 = Item(name=\"Laptop\",price=1000,quantity=5)\n",
    "print(item2.calculate_total_price())\n",
    "print(item2.name)\n",
    "print(item2.price)\n",
    "print(item2.quantity)\n",
    "\n",
    "\"\"\"\n",
    "#attributes of the instance item2\n",
    "item2.name = \"Laptop\"\n",
    "item2.price = 100\n",
    "item2.quantity =  5\n",
    "print(item2.calculate_total_price(name=\"Laptop\",price=100,quantity=5))\n",
    "\n",
    "\"\"\""
   ]
  },
  {
   "cell_type": "code",
   "execution_count": 8,
   "id": "3b071466",
   "metadata": {},
   "outputs": [
    {
     "ename": "AssertionError",
     "evalue": "Price -1 is not greater than equal to zero",
     "output_type": "error",
     "traceback": [
      "\u001b[0;31m---------------------------------------------------------------------------\u001b[0m",
      "\u001b[0;31mAssertionError\u001b[0m                            Traceback (most recent call last)",
      "Input \u001b[0;32mIn [8]\u001b[0m, in \u001b[0;36m<cell line: 19>\u001b[0;34m()\u001b[0m\n\u001b[1;32m     16\u001b[0m         \u001b[38;5;28;01mreturn\u001b[39;00m \u001b[38;5;124mf\u001b[39m\u001b[38;5;124m\"\u001b[39m\u001b[38;5;132;01m{\u001b[39;00m\u001b[38;5;28mself\u001b[39m\u001b[38;5;241m.\u001b[39mname\u001b[38;5;132;01m}\u001b[39;00m\u001b[38;5;124m total price is \u001b[39m\u001b[38;5;132;01m{\u001b[39;00m\u001b[38;5;28mself\u001b[39m\u001b[38;5;241m.\u001b[39mprice\u001b[38;5;241m*\u001b[39m\u001b[38;5;28mself\u001b[39m\u001b[38;5;241m.\u001b[39mquantity\u001b[38;5;132;01m}\u001b[39;00m\u001b[38;5;124m\"\u001b[39m\n\u001b[1;32m     18\u001b[0m \u001b[38;5;66;03m#creating an instance    \u001b[39;00m\n\u001b[0;32m---> 19\u001b[0m item1 \u001b[38;5;241m=\u001b[39m \u001b[43mItem\u001b[49m\u001b[43m(\u001b[49m\u001b[43mname\u001b[49m\u001b[38;5;241;43m=\u001b[39;49m\u001b[38;5;124;43m\"\u001b[39;49m\u001b[38;5;124;43mPhone\u001b[39;49m\u001b[38;5;124;43m\"\u001b[39;49m\u001b[43m,\u001b[49m\u001b[43mprice\u001b[49m\u001b[38;5;241;43m=\u001b[39;49m\u001b[38;5;241;43m-\u001b[39;49m\u001b[38;5;241;43m1\u001b[39;49m\u001b[43m,\u001b[49m\u001b[43mquantity\u001b[49m\u001b[38;5;241;43m=\u001b[39;49m\u001b[38;5;241;43m5\u001b[39;49m\u001b[43m)\u001b[49m\n\u001b[1;32m     20\u001b[0m \u001b[38;5;28mprint\u001b[39m(item1\u001b[38;5;241m.\u001b[39mcalculate_total_price())\n\u001b[1;32m     21\u001b[0m \u001b[38;5;28mprint\u001b[39m(item1\u001b[38;5;241m.\u001b[39mname)\n",
      "Input \u001b[0;32mIn [8]\u001b[0m, in \u001b[0;36mItem.__init__\u001b[0;34m(self, name, price, quantity)\u001b[0m\n\u001b[1;32m      3\u001b[0m \u001b[38;5;28;01mdef\u001b[39;00m \u001b[38;5;21m__init__\u001b[39m(\u001b[38;5;28mself\u001b[39m,name: \u001b[38;5;28mstr\u001b[39m,price: \u001b[38;5;28mint\u001b[39m,quantity: \u001b[38;5;28mint\u001b[39m):\n\u001b[1;32m      4\u001b[0m     \u001b[38;5;66;03m# Run validation to recieved arguments\u001b[39;00m\n\u001b[0;32m----> 5\u001b[0m     \u001b[38;5;28;01massert\u001b[39;00m price \u001b[38;5;241m>\u001b[39m\u001b[38;5;241m=\u001b[39m \u001b[38;5;241m0\u001b[39m, \u001b[38;5;124mf\u001b[39m\u001b[38;5;124m\"\u001b[39m\u001b[38;5;124mPrice \u001b[39m\u001b[38;5;132;01m{\u001b[39;00mprice\u001b[38;5;132;01m}\u001b[39;00m\u001b[38;5;124m is not greater than equal to zero\u001b[39m\u001b[38;5;124m\"\u001b[39m\n\u001b[1;32m      6\u001b[0m     \u001b[38;5;28;01massert\u001b[39;00m quantity \u001b[38;5;241m>\u001b[39m\u001b[38;5;241m=\u001b[39m \u001b[38;5;241m0\u001b[39m, \u001b[38;5;124mf\u001b[39m\u001b[38;5;124m\"\u001b[39m\u001b[38;5;124mQuantity \u001b[39m\u001b[38;5;132;01m{\u001b[39;00mquantity\u001b[38;5;132;01m}\u001b[39;00m\u001b[38;5;124m is not greater than equal to zero\u001b[39m\u001b[38;5;124m\"\u001b[39m\n\u001b[1;32m      9\u001b[0m     \u001b[38;5;66;03m# assign self object\u001b[39;00m\n",
      "\u001b[0;31mAssertionError\u001b[0m: Price -1 is not greater than equal to zero"
     ]
    }
   ],
   "source": [
    "class Item:\n",
    "    \n",
    "    def __init__(self,name: str,price: int,quantity: int):\n",
    "        # Run validation to recieved arguments\n",
    "        assert price >= 0, f\"Price {price} is not greater than equal to zero\"\n",
    "        assert quantity >= 0, f\"Quantity {quantity} is not greater than equal to zero\"\n",
    "        \n",
    "        \n",
    "        # assign self object\n",
    "        self.name = name\n",
    "        self.price = price\n",
    "        self.quantity = quantity\n",
    "    \n",
    "    #creating a method\n",
    "    def calculate_total_price(self):\n",
    "        return f\"{self.name} total price is {self.price*self.quantity}\"\n",
    "        \n",
    "#creating an instance    \n",
    "item1 = Item(name=\"Phone\",price=-1,quantity=5)\n",
    "print(item1.calculate_total_price())\n",
    "print(item1.name)\n",
    "print(item1.price)\n",
    "print(item1.quantity)\n",
    "\n",
    "\n",
    "#creating an instance    \n",
    "item2 = Item(name=\"Laptop\",price=1000,quantity=5)\n",
    "print(item2.calculate_total_price())\n",
    "print(item2.name)\n",
    "print(item2.price)\n",
    "print(item2.quantity)\n",
    "\n"
   ]
  },
  {
   "cell_type": "markdown",
   "id": "1e961103",
   "metadata": {},
   "source": [
    "**Class Atributes:**  \n",
    "- belongs to the class itself but we can act this at instance level also.\n",
    "- **magic attribute - __ dict__**:- Try to bring all the attributes that are belonging to the object that we apply this attribute.\n"
   ]
  },
  {
   "cell_type": "code",
   "execution_count": 22,
   "id": "a5fd5674",
   "metadata": {},
   "outputs": [
    {
     "name": "stdout",
     "output_type": "stream",
     "text": [
      "0.8\n",
      "0.8\n",
      "0.8\n",
      "{'__module__': '__main__', 'pay_rate': 0.8, '__init__': <function Item.__init__ at 0x7fe930e6aaf0>, 'calculate_total_price': <function Item.calculate_total_price at 0x7fe930e6a1f0>, '__dict__': <attribute '__dict__' of 'Item' objects>, '__weakref__': <attribute '__weakref__' of 'Item' objects>, '__doc__': None}\n",
      "{'name': 'Phone', 'price': 100, 'quantity': 5}\n"
     ]
    }
   ],
   "source": [
    "class Item:\n",
    "    \n",
    "    pay_rate = 0.8 #pay rate after 20% discount\n",
    "    \n",
    "    def __init__(self,name: str,price: int,quantity: int):\n",
    "        # Run validation to recieved arguments\n",
    "        assert price >= 0, f\"Price {price} is not greater than equal to zero\"\n",
    "        assert quantity >= 0, f\"Price {quantity} is not greater than equal to zero\"\n",
    "        \n",
    "        \n",
    "        # assign self object\n",
    "        self.name = name\n",
    "        self.price = price\n",
    "        self.quantity = quantity\n",
    "    \n",
    "    #creating a method\n",
    "    def calculate_total_price(self):\n",
    "        return f\"{self.name} total price is {self.price*self.quantity}\"\n",
    "        \n",
    "#creating an instance    \n",
    "item1 = Item(name=\"Phone\",price=100,quantity=5)\n",
    "\n",
    "\n",
    "#creating an instance    \n",
    "item2 = Item(name=\"Laptop\",price=1000,quantity=5)\n",
    "\n",
    "#Acessing class atribute at class level and instance level.\n",
    "print(Item.pay_rate)\n",
    "print(item1.pay_rate) #couldn't find the attribute at instance level so they go to class level where this attribute lives.\n",
    "print(item2.pay_rate)\n",
    "\n",
    "\n",
    "print(Item.__dict__) # All attributes at Class level\n",
    "print(item1.__dict__) # All attributes for instance level\n"
   ]
  },
  {
   "cell_type": "code",
   "execution_count": 1,
   "id": "5da6dbaa",
   "metadata": {},
   "outputs": [
    {
     "name": "stdout",
     "output_type": "stream",
     "text": [
      "None\n",
      "80.0\n",
      "None\n",
      "700.0\n"
     ]
    }
   ],
   "source": [
    "# APPLY DICSCOUNT\n",
    "#-----------------------------------------------\n",
    "\n",
    "class Item:\n",
    "    \n",
    "    pay_rate = 0.8\n",
    "    \n",
    "    def __init__(self,name: str,price: int,quantity: int):\n",
    "        # Run validation to recieved arguments\n",
    "        assert price >= 0, f\"Price {price} is not greater than equal to zero\"\n",
    "        assert quantity >= 0, f\"Price {quantity} is not greater than equal to zero\"\n",
    "        \n",
    "        \n",
    "        # assign self object\n",
    "        self.name = name\n",
    "        self.price = price\n",
    "        self.quantity = quantity\n",
    "    \n",
    "    #creating a method\n",
    "    def calculate_total_price(self):\n",
    "        return f\"{self.name} total price is {self.price*self.quantity}\"\n",
    "\n",
    "    #create dicount method\n",
    "    def apply_discount(self):\n",
    "        self.price = self.price * self.pay_rate\n",
    "    \n",
    "#creating an instance    \n",
    "item1 = Item(name=\"Phone\",price=100,quantity=5)\n",
    "print(item1.apply_discount())\n",
    "print(item1.price)\n",
    "\n",
    "item2 = Item(name=\"Laptop\",price=1000,quantity=5)\n",
    "#way for apply different discount to a specific object\n",
    "#apply self.pay_rate (not Item.pay_rate)\n",
    "item2.pay_rate = 0.7 \n",
    "print(item2.apply_discount())\n",
    "print(item2.price)"
   ]
  },
  {
   "cell_type": "markdown",
   "id": "3f4a8a3e",
   "metadata": {},
   "source": [
    " - A design for a list containing instances of a class\n",
    " - **all = [  ]** - a good candidate.\n",
    " - **__ repr __** - a good way to make our object details printed readable."
   ]
  },
  {
   "cell_type": "code",
   "execution_count": null,
   "id": "bfee1778",
   "metadata": {},
   "outputs": [],
   "source": []
  },
  {
   "cell_type": "code",
   "execution_count": 41,
   "id": "c69287c4",
   "metadata": {},
   "outputs": [
    {
     "name": "stdout",
     "output_type": "stream",
     "text": [
      "[Item ('Phone', 100, 5), Item ('Laptop', 1000, 3), Item ('Cable', 10, 5), Item ('Mouse', 50, 5), Item ('KeyBoard', 75, 5)]\n",
      "Phone\n",
      "Laptop\n",
      "Cable\n",
      "Mouse\n",
      "KeyBoard\n"
     ]
    }
   ],
   "source": [
    "#  \n",
    "class Item:\n",
    "    \n",
    "    pay_rate = 0.8\n",
    "    \n",
    "    #---------------------------------------------------------------\n",
    "\n",
    "    all = []\n",
    "    \n",
    "    #---------------------------------------------------------------\n",
    "\n",
    "    def __init__(self,name: str,price: int,quantity: int):\n",
    "        # Run validation to recieved arguments\n",
    "        assert price >= 0, f\"Price {price} is not greater than equal to zero\"\n",
    "        assert quantity >= 0, f\"Price {quantity} is not greater than equal to zero\"\n",
    "        \n",
    "        \n",
    "        # assign self object\n",
    "        self.name = name\n",
    "        self.price = price\n",
    "        self.quantity = quantity\n",
    "    \n",
    "        #---------------------------------------------------------------\n",
    "        #Actions to execute\n",
    "        Item.all.append(self)\n",
    "            \n",
    "    #---------------------------------------------------------------\n",
    "    #A magic method to print the object details readable\n",
    "    def __repr__(self):\n",
    "        return f\"{self.__class__.__name__} ('{self.name}', {self.price}, {self.quantity})\"\n",
    "        \n",
    "    #---------------------------------------------------------------\n",
    "        \n",
    "    \n",
    "    \n",
    "    #creating a method\n",
    "    def calculate_total_price(self):\n",
    "        return f\"{self.name} total price is {self.price*self.quantity}\"\n",
    "\n",
    "    #create dicount method\n",
    "    def apply_discount(self):\n",
    "        self.price = self.price * self.pay_rate\n",
    "    \n",
    "#creating an instance    \n",
    "item1 = Item(name=\"Phone\",price=100,quantity=5)\n",
    "item2 = Item(name=\"Laptop\",price=1000,quantity=3)\n",
    "item3 = Item(name=\"Cable\",price=10,quantity=5)\n",
    "item4 = Item(name=\"Mouse\",price=50,quantity=5)\n",
    "item5 = Item(name=\"KeyBoard\",price=75,quantity=5)\n",
    "\n",
    "print(Item.all)\n",
    "\n",
    "for instance in Item.all:\n",
    "    print(instance.name)"
   ]
  },
  {
   "cell_type": "markdown",
   "id": "1ea178c7",
   "metadata": {},
   "source": [
    "**CSV - Comma Seperated Value:**  \n",
    "- We use csv file and we could store values as comma seperated and each line represent a single structured data.\n",
    "- csv is agreat option because it allows the data to be in a **table structured file**.\n",
    "- **classmethod** is used."
   ]
  },
  {
   "cell_type": "raw",
   "id": "89b96114",
   "metadata": {},
   "source": [
    "#Items.csv  \n",
    "\n",
    "import csv  \n",
    "\n",
    "name,price,quantity  \n",
    "'Phone', 100, 5  \n",
    "'Laptop', 1000, 3  \n",
    "'Cable', 10, 5  \n",
    "'Mouse', 50, 5  \n",
    "'KeyBoard', 75, 5  \n",
    "\n",
    "#-----------------------------------------------  \n",
    "The problem is we are not going to have instances to call this method. Because this method is for instantiating the instance itself. So this means that this method cannot be called up on instances.  \n",
    "  \n",
    "#----------------------------------------------------------------------  \n",
    "@classmethod   \n",
    "def instantiate_from_csv(cls):   #now this is class method.  \n",
    "   with open('items.csv','r') as f:  \n",
    "       reader = csv.DictReader(f) \n",
    "       items = list(reader)  \n",
    "   for item in items:  \n",
    "       #to instantiate  \n",
    "       Items(  \n",
    "          name = item.get(\"name\"),  \n",
    "          price = float(item.get(\"price\"))  \n",
    "          quantity = float(item.get(\"quantity\")),  \n",
    "         \n",
    "         \n",
    "  )  \n",
    "#------ --------------------------------------------------------------        \n",
    "       \n",
    "Solution:--> Converting this method to **Class method** for that converting we need to  use decorators(just a quick way to change the behaviour of the function).    \n",
    "\n",
    "Recieves an argument cls which is the class itself (in this case Item)  \n",
    "\n",
    "#------------------------------------------------------------------------  \n",
    "Item.instantiate_from_csv()   \n",
    "print(Item.all)  "
   ]
  },
  {
   "cell_type": "markdown",
   "id": "8ffd7262",
   "metadata": {},
   "source": [
    "**Static Methods:**\n",
    "\n",
    "- the satic method never send the instance as argument.(differnece between static and class method. For class method the instance is passed as argument.)\n",
    "- can be treated as regular function"
   ]
  },
  {
   "cell_type": "raw",
   "id": "eca29a11",
   "metadata": {},
   "source": [
    "@staticmethod\n",
    "def is_integer(num):\n",
    "\n",
    "    if isinstance(num, float):\n",
    "        #count out the float that are point zero like 10.0\n",
    "        return num.is_integer()\n",
    "        \n",
    "    elif isinstance(num,int):\n",
    "        return True\n",
    "    else:\n",
    "        return False\n",
    "        \n",
    "        \n",
    "    \n",
    "print(Item.is_integer(7))\n",
    "print(Item.is_integer(7.5))\n",
    "print(Item.is_integer(7.0))\n"
   ]
  },
  {
   "cell_type": "markdown",
   "id": "87f20b4a",
   "metadata": {},
   "source": [
    "**When to use classmethod and staticmethod?**"
   ]
  },
  {
   "cell_type": "markdown",
   "id": "247bda1c",
   "metadata": {},
   "source": [
    "- We will use a static method when we want to do something that should not be unique per instance.  \n",
    "eg: is_integer() is a mehtod just going to be responsible for checking a number is integer or not. Prefer not to do outside the class because it is somewhat related to class Item.  \n",
    "  \n",
    "  \n",
    "  \n",
    "- classmethod is for instantiating instances from some structure data we own.  \n",
    "eg: we created a class method responsible for reading csv file and creating some instances.  \n",
    "  \n",
    "     \n",
    "**if we want to create instances with hundreds of data it is required to create classmehtods to read the data(can be csv,json,yml files) and create instances.**  \n",
    "  \n",
    "  \n",
    "- However these methods can be also called from instances."
   ]
  },
  {
   "cell_type": "code",
   "execution_count": 12,
   "id": "9d7b971f",
   "metadata": {},
   "outputs": [
    {
     "data": {
      "text/plain": [
       "'nokiya total price is 2500'"
      ]
     },
     "execution_count": 12,
     "metadata": {},
     "output_type": "execute_result"
    }
   ],
   "source": [
    "phone1 = Item(\"nokiya\",500,5)\n",
    "phone2 = Item(\"samsung\",1000,4)\n",
    "\n",
    "phone1.calculate_total_price()"
   ]
  },
  {
   "cell_type": "markdown",
   "id": "140f0912",
   "metadata": {},
   "source": [
    "**Super()** function allows us to access the attributes in Parent class.\n",
    "\n",
    "- Key worded argumetns can solve the duplication of variables in the code(study later!)"
   ]
  },
  {
   "cell_type": "code",
   "execution_count": 42,
   "id": "05ca5ca3",
   "metadata": {},
   "outputs": [
    {
     "name": "stdout",
     "output_type": "stream",
     "text": [
      "nokiya total price is 2500\n"
     ]
    }
   ],
   "source": [
    "#Inheritance\n",
    "class Phone(Item):\n",
    "    \n",
    "    all = []\n",
    "    \n",
    "    def __init__(self,name: str,price: int,quantity: int,broken_phones=0):\n",
    "    \n",
    "    \n",
    "        # Run validation to recieved arguments\n",
    "        assert price >= 0, f\"Price {price} is not greater than equal to zero\"\n",
    "        assert quantity >= 0, f\"Price {quantity} is not greater than equal to zero\"\n",
    "    \n",
    "        #call to super function to have access to all attributes/methods in parent class    \n",
    "        super().__init__(name,price,quantity)\n",
    "    \n",
    "        # assign self object\n",
    "        self.broken_phones = broken_phones\n",
    "    \n",
    "    #---------------------------------------------------------------\n",
    "        #Actions to execute\n",
    "        Phone.all.append(self)\n",
    "\n",
    "phone1 = Phone(\"nokiya\",500,5)\n",
    "print(phone1.calculate_total_price())\n",
    "phone2 = Phone(\"samsung\",1000,4)"
   ]
  },
  {
   "cell_type": "code",
   "execution_count": 26,
   "id": "f011a739",
   "metadata": {},
   "outputs": [
    {
     "name": "stdout",
     "output_type": "stream",
     "text": [
      "<class 'builtin_function_or_method'>\n"
     ]
    }
   ],
   "source": [
    "print(type(all))"
   ]
  },
  {
   "cell_type": "code",
   "execution_count": 31,
   "id": "d0591f96",
   "metadata": {
    "scrolled": true
   },
   "outputs": [
    {
     "name": "stdout",
     "output_type": "stream",
     "text": [
      "[Item ('Phone', 100, 5), Item ('Laptop', 1000, 3), Item ('Cable', 10, 5), Item ('Mouse', 50, 5), Item ('KeyBoard', 75, 5), Item ('nokiya', 500, 5), Item ('samsung', 1000, 4)]\n",
      "[Item ('nokiya', 500, 5), Item ('samsung', 1000, 4)]\n"
     ]
    }
   ],
   "source": [
    "print(Item.all)\n",
    "print(Phone.all)\n"
   ]
  },
  {
   "cell_type": "markdown",
   "id": "80533d28",
   "metadata": {},
   "source": [
    "The above output points out that that the results are printed with the name of the class 'Item'. But we want the print method to print the corresponding class it calls to.\n",
    "In order to do that we implement **{self.__ class __ . __ name __ }**"
   ]
  },
  {
   "cell_type": "code",
   "execution_count": 43,
   "id": "4096693c",
   "metadata": {},
   "outputs": [
    {
     "name": "stdout",
     "output_type": "stream",
     "text": [
      "[Item ('Phone', 100, 5), Item ('Laptop', 1000, 3), Item ('Cable', 10, 5), Item ('Mouse', 50, 5), Item ('KeyBoard', 75, 5), Phone ('nokiya', 500, 5), Phone ('samsung', 1000, 4)]\n",
      "[Phone ('nokiya', 500, 5), Phone ('samsung', 1000, 4)]\n"
     ]
    }
   ],
   "source": [
    "print(Item.all)\n",
    "print(Phone.all)"
   ]
  },
  {
   "cell_type": "markdown",
   "id": "5f17be70",
   "metadata": {},
   "source": [
    "We can remove all the attributes common in parent class and child class. \n",
    "  \n",
    "eg: Here we remove all attribute from the child class and we expect to see the same result."
   ]
  },
  {
   "cell_type": "code",
   "execution_count": 44,
   "id": "7a60b72a",
   "metadata": {},
   "outputs": [
    {
     "name": "stdout",
     "output_type": "stream",
     "text": [
      "nokiya total price is 2500\n",
      "[Item ('Phone', 100, 5), Item ('Laptop', 1000, 3), Item ('Cable', 10, 5), Item ('Mouse', 50, 5), Item ('KeyBoard', 75, 5), Phone ('nokiya', 500, 5), Phone ('samsung', 1000, 4), Phone ('nokiya', 500, 5), Phone ('samsung', 1000, 4)]\n",
      "[Item ('Phone', 100, 5), Item ('Laptop', 1000, 3), Item ('Cable', 10, 5), Item ('Mouse', 50, 5), Item ('KeyBoard', 75, 5), Phone ('nokiya', 500, 5), Phone ('samsung', 1000, 4), Phone ('nokiya', 500, 5), Phone ('samsung', 1000, 4)]\n"
     ]
    }
   ],
   "source": [
    "#Inheritance\n",
    "class Phone(Item):\n",
    "    \n",
    "    \n",
    "    def __init__(self,name: str,price: int,quantity: int,broken_phones=0):\n",
    "    \n",
    "    \n",
    "        # Run validation to recieved arguments\n",
    "        assert price >= 0, f\"Price {price} is not greater than equal to zero\"\n",
    "        assert quantity >= 0, f\"Price {quantity} is not greater than equal to zero\"\n",
    "    \n",
    "        #call to super function to have access to all attributes/methods in parent class    \n",
    "        super().__init__(name,price,quantity)\n",
    "    \n",
    "        # assign self object\n",
    "        self.broken_phones = broken_phones\n",
    "    \n",
    "\n",
    "phone1 = Phone(\"nokiya\",500,5)\n",
    "print(phone1.calculate_total_price())\n",
    "phone2 = Phone(\"samsung\",1000,4)\n",
    "\n",
    "print(Item.all)\n",
    "print(Phone.all)"
   ]
  },
  {
   "cell_type": "markdown",
   "id": "eccadc8c",
   "metadata": {},
   "source": [
    "We will now on create main classes for Item and Phone only to code instances of the class."
   ]
  },
  {
   "cell_type": "code",
   "execution_count": null,
   "id": "109cf929",
   "metadata": {},
   "outputs": [],
   "source": []
  }
 ],
 "metadata": {
  "kernelspec": {
   "display_name": "Python 3 (ipykernel)",
   "language": "python",
   "name": "python3"
  },
  "language_info": {
   "codemirror_mode": {
    "name": "ipython",
    "version": 3
   },
   "file_extension": ".py",
   "mimetype": "text/x-python",
   "name": "python",
   "nbconvert_exporter": "python",
   "pygments_lexer": "ipython3",
   "version": "3.8.10"
  }
 },
 "nbformat": 4,
 "nbformat_minor": 5
}
