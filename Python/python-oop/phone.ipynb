{
 "cells": [
  {
   "cell_type": "code",
   "execution_count": 11,
   "id": "adf96e88",
   "metadata": {},
   "outputs": [],
   "source": [
    "%run item.ipynb \n",
    "\n",
    "#Inheritance\n",
    "class Phone(Item):\n",
    "    \n",
    "    pay_rate = 0.5\n",
    "    \n",
    "    def __init__(self,name: str,price: int,quantity: int,broken_phones=0):\n",
    "    \n",
    "    \n",
    "        # Run validation to recieved arguments\n",
    "        assert price >= 0, f\"Price {price} is not greater than equal to zero\"\n",
    "        assert quantity >= 0, f\"Price {quantity} is not greater than equal to zero\"\n",
    "    \n",
    "        #call to super function to have access to all attributes/methods in parent class    \n",
    "        super().__init__(name,price,quantity)\n",
    "    \n",
    "        # assign self object\n",
    "        self.broken_phones = broken_phones\n",
    "    \n"
   ]
  },
  {
   "cell_type": "code",
   "execution_count": 8,
   "id": "009e11c7",
   "metadata": {},
   "outputs": [
    {
     "name": "stdout",
     "output_type": "stream",
     "text": [
      "pip 20.0.2 from /usr/lib/python3/dist-packages/pip (python 3.8)\n",
      "Note: you may need to restart the kernel to use updated packages.\n"
     ]
    }
   ],
   "source": []
  },
  {
   "cell_type": "code",
   "execution_count": null,
   "id": "75addf76",
   "metadata": {},
   "outputs": [],
   "source": []
  }
 ],
 "metadata": {
  "kernelspec": {
   "display_name": "Python 3 (ipykernel)",
   "language": "python",
   "name": "python3"
  },
  "language_info": {
   "codemirror_mode": {
    "name": "ipython",
    "version": 3
   },
   "file_extension": ".py",
   "mimetype": "text/x-python",
   "name": "python",
   "nbconvert_exporter": "python",
   "pygments_lexer": "ipython3",
   "version": "3.8.10"
  }
 },
 "nbformat": 4,
 "nbformat_minor": 5
}
