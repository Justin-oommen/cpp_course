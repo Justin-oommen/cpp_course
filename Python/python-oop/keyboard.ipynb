{
 "cells": [
  {
   "cell_type": "code",
   "execution_count": 4,
   "id": "21e4db72",
   "metadata": {},
   "outputs": [],
   "source": [
    "%run item.ipynb \n",
    "\n",
    "#Inheritance\n",
    "class Keyboard(Item):\n",
    "    \n",
    "    pay_rate= 0.7\n",
    "    \n",
    "    def __init__(self,name: str,price: int,quantity=0):\n",
    "    \n",
    "    \n",
    "        # Run validation to recieved arguments\n",
    "        assert price >= 0, f\"Price {price} is not greater than equal to zero\"\n",
    "        assert quantity >= 0, f\"Price {quantity} is not greater than equal to zero\"\n",
    "    \n",
    "        #call to super function to have access to all attributes/methods in parent class    \n",
    "        super().__init__(name,price,quantity)\n",
    "    \n",
    "    "
   ]
  },
  {
   "cell_type": "code",
   "execution_count": null,
   "id": "d20da893",
   "metadata": {},
   "outputs": [],
   "source": []
  }
 ],
 "metadata": {
  "kernelspec": {
   "display_name": "Python 3 (ipykernel)",
   "language": "python",
   "name": "python3"
  },
  "language_info": {
   "codemirror_mode": {
    "name": "ipython",
    "version": 3
   },
   "file_extension": ".py",
   "mimetype": "text/x-python",
   "name": "python",
   "nbconvert_exporter": "python",
   "pygments_lexer": "ipython3",
   "version": "3.8.10"
  }
 },
 "nbformat": 4,
 "nbformat_minor": 5
}
