{
 "cells": [
  {
   "cell_type": "code",
   "execution_count": 5,
   "id": "52f9725b",
   "metadata": {},
   "outputs": [
    {
     "name": "stdout",
     "output_type": "stream",
     "text": [
      "[Item ('Nokia', 500, 5), Phone ('Samsung', 1000, 4)]\n",
      "[Item ('Nokia', 500, 5), Phone ('Samsung', 1000, 4)]\n"
     ]
    }
   ],
   "source": [
    "%run item.ipynb\n",
    "%run phone.ipynb\n",
    "\n",
    "item1 = Item(\"Nokia\",500,5)\n",
    "phone1 = Phone(\"Samsung\",1000,4)\n",
    "\n",
    "print(item1.all)\n",
    "print(phone1.all)"
   ]
  },
  {
   "cell_type": "code",
   "execution_count": null,
   "id": "d008ce59",
   "metadata": {},
   "outputs": [],
   "source": []
  },
  {
   "cell_type": "code",
   "execution_count": 7,
   "id": "7d0d07dd",
   "metadata": {},
   "outputs": [
    {
     "name": "stdout",
     "output_type": "stream",
     "text": [
      "OtherItem\n"
     ]
    }
   ],
   "source": [
    "%run item.ipynb\n",
    "\n",
    "item1 = Item(\"MyItem\",750,5)\n",
    "item1.name = \"OtherItem\"\n",
    "\n",
    "print(item1.name)"
   ]
  },
  {
   "cell_type": "markdown",
   "id": "ff6e84e4",
   "metadata": {},
   "source": [
    "The above name is replaced by OtherItem and we want readonly mode for the attribute.  \n",
    "The way we can do is **Decorator**\n",
    "- here we  use **@property** decorator"
   ]
  },
  {
   "cell_type": "code",
   "execution_count": 10,
   "id": "020cb8e7",
   "metadata": {},
   "outputs": [
    {
     "name": "stdout",
     "output_type": "stream",
     "text": [
      "OtherItem\n",
      "AAA\n"
     ]
    },
    {
     "ename": "AttributeError",
     "evalue": "can't set attribute",
     "output_type": "error",
     "traceback": [
      "\u001b[0;31m---------------------------------------------------------------------------\u001b[0m",
      "\u001b[0;31mAttributeError\u001b[0m                            Traceback (most recent call last)",
      "Input \u001b[0;32mIn [10]\u001b[0m, in \u001b[0;36m<cell line: 9>\u001b[0;34m()\u001b[0m\n\u001b[1;32m      6\u001b[0m \u001b[38;5;28mprint\u001b[39m(item1\u001b[38;5;241m.\u001b[39mname)\n\u001b[1;32m      7\u001b[0m \u001b[38;5;28mprint\u001b[39m(item1\u001b[38;5;241m.\u001b[39mread_only_name)\n\u001b[0;32m----> 9\u001b[0m item1\u001b[38;5;241m.\u001b[39mread_only_name \u001b[38;5;241m=\u001b[39m \u001b[38;5;124m\"\u001b[39m\u001b[38;5;124mBBB\u001b[39m\u001b[38;5;124m\"\u001b[39m\n",
      "\u001b[0;31mAttributeError\u001b[0m: can't set attribute"
     ]
    }
   ],
   "source": [
    "%run item.ipynb\n",
    "\n",
    "item1 = Item(\"MyItem\",750,5)\n",
    "item1.name = \"OtherItem\"\n",
    "\n",
    "print(item1.name)\n",
    "print(item1.read_only_name)\n",
    "\n",
    "item1.read_only_name = \"BBB\""
   ]
  },
  {
   "cell_type": "code",
   "execution_count": 28,
   "id": "b9a7bd08",
   "metadata": {},
   "outputs": [
    {
     "name": "stdout",
     "output_type": "stream",
     "text": [
      "MyItem\n"
     ]
    }
   ],
   "source": [
    "%run item.ipynb\n",
    "\n",
    "item1 = Item(\"MyItem\",750,5)\n",
    "print(item1.name)\n",
    "\n",
    "item1.name = \"OtherItem\""
   ]
  },
  {
   "cell_type": "markdown",
   "id": "84e2b714",
   "metadata": {},
   "source": [
    "Using **__ name** is good method to completely privatise the attributes with in a class. "
   ]
  },
  {
   "cell_type": "code",
   "execution_count": 17,
   "id": "831a444f",
   "metadata": {},
   "outputs": [
    {
     "ename": "AttributeError",
     "evalue": "'Item' object has no attribute '__name'",
     "output_type": "error",
     "traceback": [
      "\u001b[0;31m---------------------------------------------------------------------------\u001b[0m",
      "\u001b[0;31mAttributeError\u001b[0m                            Traceback (most recent call last)",
      "Input \u001b[0;32mIn [17]\u001b[0m, in \u001b[0;36m<cell line: 4>\u001b[0;34m()\u001b[0m\n\u001b[1;32m      1\u001b[0m get_ipython()\u001b[38;5;241m.\u001b[39mrun_line_magic(\u001b[38;5;124m'\u001b[39m\u001b[38;5;124mrun\u001b[39m\u001b[38;5;124m'\u001b[39m, \u001b[38;5;124m'\u001b[39m\u001b[38;5;124mitem.ipynb\u001b[39m\u001b[38;5;124m'\u001b[39m)\n\u001b[1;32m      3\u001b[0m item1 \u001b[38;5;241m=\u001b[39m Item(\u001b[38;5;124m\"\u001b[39m\u001b[38;5;124mMyItem\u001b[39m\u001b[38;5;124m\"\u001b[39m,\u001b[38;5;241m750\u001b[39m,\u001b[38;5;241m5\u001b[39m)\n\u001b[0;32m----> 4\u001b[0m \u001b[38;5;28mprint\u001b[39m(\u001b[43mitem1\u001b[49m\u001b[38;5;241;43m.\u001b[39;49m\u001b[43m__name\u001b[49m)\n\u001b[1;32m      5\u001b[0m \u001b[38;5;28mprint\u001b[39m(item1\u001b[38;5;241m.\u001b[39mname)\n",
      "\u001b[0;31mAttributeError\u001b[0m: 'Item' object has no attribute '__name'"
     ]
    }
   ],
   "source": [
    "%run item.ipynb\n",
    "\n",
    "item1 = Item(\"MyItem\",750,5)\n",
    "print(item1.__name)\n",
    "print(item1.name)"
   ]
  },
  {
   "cell_type": "code",
   "execution_count": 18,
   "id": "88bfaf83",
   "metadata": {},
   "outputs": [
    {
     "name": "stdout",
     "output_type": "stream",
     "text": [
      "MyItem\n"
     ]
    }
   ],
   "source": [
    "print(item1.name)"
   ]
  },
  {
   "cell_type": "markdown",
   "id": "b9992bae",
   "metadata": {},
   "source": [
    "**There are some decorators allows to set a new name for the atrribute.**\n",
    "\n",
    "- we use **@name.setter** "
   ]
  },
  {
   "cell_type": "code",
   "execution_count": 29,
   "id": "b6bd74b8",
   "metadata": {},
   "outputs": [
    {
     "name": "stdout",
     "output_type": "stream",
     "text": [
      "OtherItem\n"
     ]
    }
   ],
   "source": [
    "%run item.ipynb\n",
    "\n",
    "item1 = Item(\"MyItem\",750,5)\n",
    "\n",
    "item1.name = \"OtherItem\"\n",
    "print(item1.name)\n"
   ]
  },
  {
   "cell_type": "code",
   "execution_count": 30,
   "id": "cbac0f04",
   "metadata": {},
   "outputs": [
    {
     "ename": "Exception",
     "evalue": "This naming is too long",
     "output_type": "error",
     "traceback": [
      "\u001b[0;31m---------------------------------------------------------------------------\u001b[0m",
      "\u001b[0;31mException\u001b[0m                                 Traceback (most recent call last)",
      "Input \u001b[0;32mIn [30]\u001b[0m, in \u001b[0;36m<cell line: 1>\u001b[0;34m()\u001b[0m\n\u001b[0;32m----> 1\u001b[0m item1\u001b[38;5;241m.\u001b[39mname \u001b[38;5;241m=\u001b[39m \u001b[38;5;124m\"\u001b[39m\u001b[38;5;124mSamsung_Nokia\u001b[39m\u001b[38;5;124m\"\u001b[39m\n\u001b[1;32m      2\u001b[0m \u001b[38;5;28mprint\u001b[39m(item1\u001b[38;5;241m.\u001b[39mname)\n",
      "File \u001b[0;32m/tmp/ipykernel_39045/2446722933.py:35\u001b[0m, in \u001b[0;36mItem.name\u001b[0;34m(self, value)\u001b[0m\n\u001b[1;32m     32\u001b[0m \u001b[38;5;129m@name\u001b[39m\u001b[38;5;241m.\u001b[39msetter\n\u001b[1;32m     33\u001b[0m \u001b[38;5;28;01mdef\u001b[39;00m \u001b[38;5;21mname\u001b[39m(\u001b[38;5;28mself\u001b[39m, value):\n\u001b[1;32m     34\u001b[0m     \u001b[38;5;28;01mif\u001b[39;00m \u001b[38;5;28mlen\u001b[39m(value) \u001b[38;5;241m>\u001b[39m \u001b[38;5;241m10\u001b[39m:\n\u001b[0;32m---> 35\u001b[0m         \u001b[38;5;28;01mraise\u001b[39;00m \u001b[38;5;167;01mException\u001b[39;00m (\u001b[38;5;124m\"\u001b[39m\u001b[38;5;124mThis naming is too long\u001b[39m\u001b[38;5;124m\"\u001b[39m)\n\u001b[1;32m     36\u001b[0m     \u001b[38;5;28;01melse\u001b[39;00m:\n\u001b[1;32m     37\u001b[0m         \u001b[38;5;28mself\u001b[39m\u001b[38;5;241m.\u001b[39m__name \u001b[38;5;241m=\u001b[39m value\n",
      "\u001b[0;31mException\u001b[0m: This naming is too long"
     ]
    }
   ],
   "source": [
    "item1.name = \"Samsung_Nokia\"\n",
    "print(item1.name)\n"
   ]
  },
  {
   "cell_type": "markdown",
   "id": "cda0cef8",
   "metadata": {},
   "source": [
    "Object Oriented Programming Principles: \n",
    "- Encapsulation:  \n",
    "  \n",
    "  A MECHANISM TO RESTRICTING THE DIRECT ACTION ON SOME OF OUR ATTRIBUTES.\n",
    "     eg: name is here encapsulated.   \n",
    "  \n",
    "  \n",
    "- Abstraction:  \n",
    "    \n",
    "  CONCEPT THAT ONLY SHOW NECESSARY ATTRIBUTE AND HIDE UNNECESSARY ATTRIBUTES FROM USERS.  \n",
    "  \n",
    "      \n",
    "- Inheretance:  \n",
    "  \n",
    "  REUSING ALL THE METHODS FROM A PARENT CLASS TO A CHILD CLASS AND ALSO USE NEW INHERENT PROPERTIES THAT GIVEN TO CHILD CLASS ITSELF.\n",
    "    \n",
    "    \n",
    "- Polymorphism:  \n",
    "    \n",
    "    USE OF A SINGLE TYPE ENTITY TO REPRESENT DIFFERENT TYPES IN DIFFERENT SCENARIOS.  \n",
    "    PLOY - MANY  \n",
    "    MORP- FORM  \n",
    "    Eg: **len()** built in function can handle different types and give results accordingly. if we use len with string it returns the total character length and if it use on a list it return the number of elements from the list.\n",
    "    "
   ]
  },
  {
   "cell_type": "code",
   "execution_count": 40,
   "id": "9dad99e4",
   "metadata": {},
   "outputs": [
    {
     "name": "stdout",
     "output_type": "stream",
     "text": [
      "Item ('MyItem', 750, 0)\n",
      "750\n"
     ]
    }
   ],
   "source": [
    "%run item.ipynb\n",
    "\n",
    "item1 = Item(\"MyItem\",750)\n",
    "print(item1)\n",
    "print(item1.price)"
   ]
  },
  {
   "cell_type": "code",
   "execution_count": 41,
   "id": "71328cf2",
   "metadata": {},
   "outputs": [
    {
     "ename": "AttributeError",
     "evalue": "can't set attribute",
     "output_type": "error",
     "traceback": [
      "\u001b[0;31m---------------------------------------------------------------------------\u001b[0m",
      "\u001b[0;31mAttributeError\u001b[0m                            Traceback (most recent call last)",
      "Input \u001b[0;32mIn [41]\u001b[0m, in \u001b[0;36m<cell line: 1>\u001b[0;34m()\u001b[0m\n\u001b[0;32m----> 1\u001b[0m item1\u001b[38;5;241m.\u001b[39mprice \u001b[38;5;241m=\u001b[39m \u001b[38;5;241m900\u001b[39m\n\u001b[1;32m      2\u001b[0m \u001b[38;5;28mprint\u001b[39m(item1)\n\u001b[1;32m      3\u001b[0m \u001b[38;5;28mprint\u001b[39m(item1\u001b[38;5;241m.\u001b[39mprice)\n",
      "\u001b[0;31mAttributeError\u001b[0m: can't set attribute"
     ]
    }
   ],
   "source": [
    "item1.price = 900\n",
    "print(item1)\n",
    "print(item1.price)"
   ]
  },
  {
   "cell_type": "code",
   "execution_count": 43,
   "id": "863245fd",
   "metadata": {},
   "outputs": [
    {
     "name": "stdout",
     "output_type": "stream",
     "text": [
      "1080.0\n"
     ]
    }
   ],
   "source": [
    "item1.apply_increment(0.2)\n",
    "print(item1.price)"
   ]
  },
  {
   "cell_type": "code",
   "execution_count": 46,
   "id": "357ea400",
   "metadata": {},
   "outputs": [
    {
     "name": "stdout",
     "output_type": "stream",
     "text": [
      "691.2\n"
     ]
    }
   ],
   "source": [
    "item1.apply_discount()\n",
    "print(item1.price)"
   ]
  },
  {
   "cell_type": "code",
   "execution_count": 54,
   "id": "0956a0e9",
   "metadata": {},
   "outputs": [
    {
     "name": "stdout",
     "output_type": "stream",
     "text": [
      "None\n"
     ]
    }
   ],
   "source": [
    "#ABSTRACTION EXAMPLE\n",
    "\n",
    "%run item.ipynb\n",
    "\n",
    "item1 = Item(\"Nokia\",1000,10)\n",
    "print(item1.send_email())"
   ]
  },
  {
   "cell_type": "code",
   "execution_count": 56,
   "id": "628e7f17",
   "metadata": {},
   "outputs": [
    {
     "name": "stdout",
     "output_type": "stream",
     "text": [
      "1200.0\n"
     ]
    }
   ],
   "source": [
    "%run phone.ipynb\n",
    "\n",
    "item1 = Phone(\"Samsung\",1000,3)\n",
    "item1.send_email()\n",
    "\n",
    "item1.apply_increment(0.2)\n",
    "print(item1.price)"
   ]
  },
  {
   "cell_type": "code",
   "execution_count": 62,
   "id": "25c843e7",
   "metadata": {},
   "outputs": [
    {
     "name": "stdout",
     "output_type": "stream",
     "text": [
      "500.0\n"
     ]
    }
   ],
   "source": [
    "#POLYMORPHISM\n",
    "\n",
    "%run phone.ipynb\n",
    "\n",
    "item1 = Phone(\"Samsung\",1000,3)\n",
    "\n",
    "\n",
    "item1.apply_discount()\n",
    "print(item1.price)"
   ]
  },
  {
   "cell_type": "code",
   "execution_count": 64,
   "id": "1cbdc081",
   "metadata": {},
   "outputs": [
    {
     "name": "stdout",
     "output_type": "stream",
     "text": [
      "Keyboard ('logitech', 700.0, 5)\n",
      "700.0\n"
     ]
    }
   ],
   "source": [
    "#Polymorphism\n",
    "%run phone.ipynb\n",
    "%run keyboard.ipynb\n",
    "\n",
    "item1 = Keyboard(\"logitech\",1000,5)\n",
    "item1.apply_discount()\n",
    "print(item1)\n",
    "print(item1.price)"
   ]
  },
  {
   "cell_type": "code",
   "execution_count": null,
   "id": "5ce988ec",
   "metadata": {},
   "outputs": [],
   "source": []
  }
 ],
 "metadata": {
  "kernelspec": {
   "display_name": "Python 3 (ipykernel)",
   "language": "python",
   "name": "python3"
  },
  "language_info": {
   "codemirror_mode": {
    "name": "ipython",
    "version": 3
   },
   "file_extension": ".py",
   "mimetype": "text/x-python",
   "name": "python",
   "nbconvert_exporter": "python",
   "pygments_lexer": "ipython3",
   "version": "3.8.10"
  }
 },
 "nbformat": 4,
 "nbformat_minor": 5
}
